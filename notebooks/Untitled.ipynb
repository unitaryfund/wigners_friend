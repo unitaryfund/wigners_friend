{
 "cells": [
  {
   "cell_type": "code",
   "execution_count": 16,
   "id": "87a90ab1",
   "metadata": {},
   "outputs": [
    {
     "name": "stdout",
     "output_type": "stream",
     "text": [
      "[0.5773502691896258, 0, 0.5773502691896258, 0.5773502691896258]\n",
      "     ┌────────────────────────────────────────┐\n",
      "q_0: ┤0                                       ├\n",
      "     │  Initialize(0.57735,0,0.57735,0.57735) │\n",
      "q_1: ┤1                                       ├\n",
      "     └────────────────────────────────────────┘\n",
      "c: 2/══════════════════════════════════════════\n",
      "                                               \n",
      "CircuitInstruction(operation=Instruction(name='r', num_qubits=1, num_clbits=0, params=[1.9106332362490184, 1.5707963267948966]), qubits=(Qubit(QuantumRegister(2, 'q'), 1),), clbits=())\n"
     ]
    }
   ],
   "source": [
    "from qiskit import QuantumCircuit, IBMQ\n",
    "import numpy as np\n",
    "num_qubits = 2\n",
    "\n",
    "initial_state = [1/np.sqrt(3), 0, 1/np.sqrt(3), 1/np.sqrt(3)]\n",
    "print(initial_state)\n",
    "\n",
    "circuit = QuantumCircuit(num_qubits, num_qubits)\n",
    "circuit.initialize(initial_state, [0, 1])\n",
    "print(circuit)\n",
    "circuit.decompose().decompose().decompose().decompose().decompose().draw('mpl') \n",
    "x = circuit.decompose().decompose().decompose().decompose().decompose()\n",
    "print(x[3])"
   ]
  },
  {
   "cell_type": "code",
   "execution_count": 8,
   "id": "057d1f6b",
   "metadata": {},
   "outputs": [
    {
     "data": {
      "image/png": "[encoded data removed]",
      "text/plain": [
       "<Figure size 538.128x284.278 with 1 Axes>"
      ]
     },
     "execution_count": 8,
     "metadata": {},
     "output_type": "execute_result"
    }
   ],
   "source": [
    "circuit.decompose().decompose().decompose().decompose().decompose().draw('mpl') \n"
   ]
  },
  {
   "cell_type": "code",
   "execution_count": null,
   "id": "daede617",
   "metadata": {},
   "outputs": [],
   "source": []
  }
 ],
 "metadata": {
  "kernelspec": {
   "display_name": "wf",
   "language": "python",
   "name": "wf"
  },
  "language_info": {
   "codemirror_mode": {
    "name": "ipython",
    "version": 3
   },
   "file_extension": ".py",
   "mimetype": "text/x-python",
   "name": "python",
   "nbconvert_exporter": "python",
   "pygments_lexer": "ipython3",
   "version": "3.11.0"
  }
 },
 "nbformat": 4,
 "nbformat_minor": 5
}
