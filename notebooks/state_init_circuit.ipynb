{
 "cells": [
  {
   "cell_type": "code",
   "execution_count": 19,
   "id": "51851661",
   "metadata": {},
   "outputs": [
    {
     "name": "stdout",
     "output_type": "stream",
     "text": [
      "[0.7071067811865475, 0, 0, 0.7071067811865475]\n",
      "     ┌──────────────────────────────────┐\n",
      "q_0: ┤0                                 ├\n",
      "     │  Initialize(0.70711,0,0,0.70711) │\n",
      "q_1: ┤1                                 ├\n",
      "     └──────────────────────────────────┘\n",
      "c: 2/════════════════════════════════════\n",
      "                                         \n",
      "CircuitInstruction(operation=Instruction(name='r', num_qubits=1, num_clbits=0, params=[1.5707963267948966, 1.5707963267948966]), qubits=(Qubit(QuantumRegister(2, 'q'), 1),), clbits=())\n"
     ]
    }
   ],
   "source": [
    "# https://quantumcomputing.stackexchange.com/questions/25900/state-initialization-of-quantum-circuit\n",
    "from qiskit import QuantumCircuit, IBMQ\n",
    "import numpy as np\n",
    "num_qubits = 2\n",
    "\n",
    "initial_state = [1/np.sqrt(2), 0, 0, 1/np.sqrt(2)]\n",
    "print(initial_state)\n",
    "\n",
    "circuit = QuantumCircuit(num_qubits, num_qubits)\n",
    "circuit.initialize(initial_state, [0, 1])\n",
    "print(circuit)\n",
    "circuit.decompose().decompose().decompose().decompose().decompose().draw('mpl') \n",
    "x = circuit.decompose().decompose().decompose().decompose().decompose()\n",
    "print(x[3])"
   ]
  },
  {
   "cell_type": "code",
   "execution_count": 20,
   "id": "922f83bb",
   "metadata": {},
   "outputs": [
    {
     "data": {
      "image/png": "[encoded data removed]",
      "text/plain": [
       "<Figure size 538.128x284.278 with 1 Axes>"
      ]
     },
     "execution_count": 20,
     "metadata": {},
     "output_type": "execute_result"
    }
   ],
   "source": [
    "circuit.decompose().decompose().decompose().decompose().decompose().draw('mpl') "
   ]
  },
  {
   "cell_type": "code",
   "execution_count": null,
   "id": "aa09cfea",
   "metadata": {},
   "outputs": [],
   "source": []
  }
 ],
 "metadata": {
  "kernelspec": {
   "display_name": "wf",
   "language": "python",
   "name": "wf"
  },
  "language_info": {
   "codemirror_mode": {
    "name": "ipython",
    "version": 3
   },
   "file_extension": ".py",
   "mimetype": "text/x-python",
   "name": "python",
   "nbconvert_exporter": "python",
   "pygments_lexer": "ipython3",
   "version": "3.11.0"
  }
 },
 "nbformat": 4,
 "nbformat_minor": 5
}
