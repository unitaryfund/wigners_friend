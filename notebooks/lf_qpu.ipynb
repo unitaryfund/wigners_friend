{
 "cells": [
  {
   "cell_type": "markdown",
   "id": "971ebe81",
   "metadata": {},
   "source": [
    "### Local Friendliness Violations on a QPU\n",
    "\n",
    "This notebook is intended to run a benchmark to show a local friendliness violation from an extended Wigner's Friend scenario running on a QPU. For our friends we will use a GHZ state of increasing size. First we run on a simulator, then a noisy simulator, then on a real QPU.\n",
    "\n",
    "Relevant References:\n",
    "- https://arxiv.org/abs/2109.02298\n",
    "- https://arxiv.org/abs/2209.06236"
   ]
  },
  {
   "cell_type": "code",
   "execution_count": 10,
   "id": "5f444949",
   "metadata": {},
   "outputs": [],
   "source": [
    "import qiskit\n",
    "from qiskit import QuantumCircuit, Aer, transpile, assemble\n",
    "from qiskit.visualization import plot_histogram\n",
    "import numpy as np\n",
    "import itertools\n",
    "import matplotlib.pyplot as plt\n",
    "import random"
   ]
  },
  {
   "cell_type": "code",
   "execution_count": 11,
   "id": "4eb4170e",
   "metadata": {},
   "outputs": [],
   "source": [
    "# Quantum Register Layout:\n",
    "# system; Charlie; Debbie; [Alice]; [Bob]\n",
    "\n",
    "charlie_size=3\n",
    "debbie_size=charlie_size\n",
    "\n",
    "def make_qc(charlie_size=charlie_size, debbie_size=debbie_size):\n",
    "    return QuantumCircuit(2+charlie_size+debbie_size, 2) # system + Charlie + Debbie, [Alice+Bob]"
   ]
  },
  {
   "cell_type": "code",
   "execution_count": 12,
   "id": "e8df2d61",
   "metadata": {},
   "outputs": [],
   "source": [
    "def bell(qc):\n",
    "    qc.h(0)\n",
    "    qc.cx(0, 1)\n",
    "    return qc"
   ]
  },
  {
   "cell_type": "code",
   "execution_count": 35,
   "id": "687cde0f",
   "metadata": {},
   "outputs": [],
   "source": [
    "def state_prep(qc):\n",
    "    #circuit = QuantumCircuit(2)\n",
    "\n",
    "    # Applying RY Gate on the first Qubit with parameter pi/2\n",
    "    qc.ry(2 * np.arccos(np.sqrt(2/3)), 0)\n",
    "    qc.ry(np.pi/4, 1)\n",
    "    qc.x(0)\n",
    "    qc.cx(0, 1)\n",
    "    qc.x(0)\n",
    "    qc.ry(-np.pi/4, 1) \n",
    "    \n",
    "    return qc"
   ]
  },
  {
   "cell_type": "code",
   "execution_count": 36,
   "id": "b44b89f4",
   "metadata": {},
   "outputs": [],
   "source": [
    "def unitary_measure(qc, system_qubit, friend_qubit, size=1):\n",
    "    for xx in range(0, size):\n",
    "        qc.cx(system_qubit, friend_qubit+xx)"
   ]
  },
  {
   "cell_type": "code",
   "execution_count": 37,
   "id": "39321843",
   "metadata": {},
   "outputs": [],
   "source": [
    "def ewfs(qc, alice, bob, angles=None):\n",
    "    if angles == None:\n",
    "        angles = [np.pi/2, np.pi/2]\n",
    "    \n",
    "    state_prep(qc)\n",
    "    #bell(qc)\n",
    "    \n",
    "    # Charlie measurement\n",
    "    unitary_measure(qc, 0, 2, size=charlie_size)\n",
    "    # Debbie measurement\n",
    "    unitary_measure(qc, 1, 2+charlie_size, size=debbie_size)\n",
    "    \n",
    "    # 0: Charlie system; 2: Charlie; [0]: Alice\n",
    "    if alice == 1:\n",
    "        # ask Charlie for the outcome\n",
    "        # we pick a random qubit from Charlie's register\n",
    "        random_offset = random.randint(0, charlie_size-1)\n",
    "        qc.measure(2+random_offset, 0)\n",
    "    else:\n",
    "        # undo the measurement\n",
    "        unitary_measure(qc, 0, 2, size=charlie_size)\n",
    "        # Alice measures directly in a different basis\n",
    "        qc.rz(np.pi/2, 0)\n",
    "        qc.rx(np.pi/2, 0)\n",
    "        if alice == 2:\n",
    "            qc.rz(angles[0], 0)\n",
    "        elif alice == 3:\n",
    "            qc.rz(angles[1], 0)\n",
    "        qc.measure(0, 0)\n",
    "    \n",
    "    # 1: Debbie system; 3: Debbie; [1]: Bob\n",
    "    if bob == 1:\n",
    "        # ask Debbie for the outcome\n",
    "        # we pick a random qubit from Debbie's register\n",
    "        random_offset = random.randint(0, debbie_size-1)\n",
    "        qc.measure(2+charlie_size+random_offset, 1)\n",
    "    else:\n",
    "        # undo the measurement\n",
    "        unitary_measure(qc, 1, 2+charlie_size, size=debbie_size)\n",
    "        # Bob measures directly in a different basis\n",
    "        qc.rz(np.pi/2, 0)\n",
    "        qc.rx(np.pi/2, 1)\n",
    "        if bob == 2:\n",
    "            qc.rz(angles[0], 1)\n",
    "        elif bob == 3:\n",
    "            qc.rz(angles[1], 1)\n",
    "        qc.measure(1, 1)\n",
    "\n",
    "    return qc"
   ]
  },
  {
   "cell_type": "code",
   "execution_count": 38,
   "id": "76a9377a",
   "metadata": {},
   "outputs": [
    {
     "data": {
      "text/html": [
       "<pre style=\"word-wrap: normal;white-space: pre;background: #fff0;line-height: 1.1;font-family: &quot;Courier New&quot;,Courier,monospace\">     ┌───────────┐┌───┐        ┌───┐                             ┌─────────┐   »\n",
       "q_0: ┤ Ry(1.231) ├┤ X ├──■─────┤ X ├──────■─────────■─────────■──┤ Rz(π/2) ├───»\n",
       "     └┬─────────┬┘└───┘┌─┴─┐┌──┴───┴───┐  │         │         │  └─────────┘   »\n",
       "q_1: ─┤ Ry(π/4) ├──────┤ X ├┤ Ry(-π/4) ├──┼────■────┼────■────┼───────■────────»\n",
       "      └─────────┘      └───┘└──────────┘┌─┴─┐  │    │    │    │       │        »\n",
       "q_2: ───────────────────────────────────┤ X ├──┼────┼────┼────┼───────┼────────»\n",
       "                                        └───┘  │  ┌─┴─┐  │    │       │     ┌─┐»\n",
       "q_3: ──────────────────────────────────────────┼──┤ X ├──┼────┼───────┼─────┤M├»\n",
       "                                               │  └───┘  │  ┌─┴─┐     │     └╥┘»\n",
       "q_4: ──────────────────────────────────────────┼─────────┼──┤ X ├─────┼──────╫─»\n",
       "                                             ┌─┴─┐       │  └───┘     │      ║ »\n",
       "q_5: ────────────────────────────────────────┤ X ├───────┼────────────┼──────╫─»\n",
       "                                             └───┘     ┌─┴─┐          │      ║ »\n",
       "q_6: ──────────────────────────────────────────────────┤ X ├──────────┼──────╫─»\n",
       "                                                       └───┘        ┌─┴─┐    ║ »\n",
       "q_7: ───────────────────────────────────────────────────────────────┤ X ├────╫─»\n",
       "                                                                    └───┘    ║ »\n",
       "c: 2/════════════════════════════════════════════════════════════════════════╩═»\n",
       "                                                                             0 »\n",
       "«                                             \n",
       "«q_0: ────────────────────────────────────────\n",
       "«                    ┌─────────┐┌─────────┐┌─┐\n",
       "«q_1: ──■────■────■──┤ Rx(π/2) ├┤ Rz(π/2) ├┤M├\n",
       "«       │    │    │  └─────────┘└─────────┘└╥┘\n",
       "«q_2: ──┼────┼────┼─────────────────────────╫─\n",
       "«       │    │    │                         ║ \n",
       "«q_3: ──┼────┼────┼─────────────────────────╫─\n",
       "«       │    │    │                         ║ \n",
       "«q_4: ──┼────┼────┼─────────────────────────╫─\n",
       "«     ┌─┴─┐  │    │                         ║ \n",
       "«q_5: ┤ X ├──┼────┼─────────────────────────╫─\n",
       "«     └───┘┌─┴─┐  │                         ║ \n",
       "«q_6: ─────┤ X ├──┼─────────────────────────╫─\n",
       "«          └───┘┌─┴─┐                       ║ \n",
       "«q_7: ──────────┤ X ├───────────────────────╫─\n",
       "«               └───┘                       ║ \n",
       "«c: 2/══════════════════════════════════════╩═\n",
       "«                                           1 </pre>"
      ],
      "text/plain": [
       "     ┌───────────┐┌───┐        ┌───┐                             ┌─────────┐   »\n",
       "q_0: ┤ Ry(1.231) ├┤ X ├──■─────┤ X ├──────■─────────■─────────■──┤ Rz(π/2) ├───»\n",
       "     └┬─────────┬┘└───┘┌─┴─┐┌──┴───┴───┐  │         │         │  └─────────┘   »\n",
       "q_1: ─┤ Ry(π/4) ├──────┤ X ├┤ Ry(-π/4) ├──┼────■────┼────■────┼───────■────────»\n",
       "      └─────────┘      └───┘└──────────┘┌─┴─┐  │    │    │    │       │        »\n",
       "q_2: ───────────────────────────────────┤ X ├──┼────┼────┼────┼───────┼────────»\n",
       "                                        └───┘  │  ┌─┴─┐  │    │       │     ┌─┐»\n",
       "q_3: ──────────────────────────────────────────┼──┤ X ├──┼────┼───────┼─────┤M├»\n",
       "                                               │  └───┘  │  ┌─┴─┐     │     └╥┘»\n",
       "q_4: ──────────────────────────────────────────┼─────────┼──┤ X ├─────┼──────╫─»\n",
       "                                             ┌─┴─┐       │  └───┘     │      ║ »\n",
       "q_5: ────────────────────────────────────────┤ X ├───────┼────────────┼──────╫─»\n",
       "                                             └───┘     ┌─┴─┐          │      ║ »\n",
       "q_6: ──────────────────────────────────────────────────┤ X ├──────────┼──────╫─»\n",
       "                                                       └───┘        ┌─┴─┐    ║ »\n",
       "q_7: ───────────────────────────────────────────────────────────────┤ X ├────╫─»\n",
       "                                                                    └───┘    ║ »\n",
       "c: 2/════════════════════════════════════════════════════════════════════════╩═»\n",
       "                                                                             0 »\n",
       "«                                             \n",
       "«q_0: ────────────────────────────────────────\n",
       "«                    ┌─────────┐┌─────────┐┌─┐\n",
       "«q_1: ──■────■────■──┤ Rx(π/2) ├┤ Rz(π/2) ├┤M├\n",
       "«       │    │    │  └─────────┘└─────────┘└╥┘\n",
       "«q_2: ──┼────┼────┼─────────────────────────╫─\n",
       "«       │    │    │                         ║ \n",
       "«q_3: ──┼────┼────┼─────────────────────────╫─\n",
       "«       │    │    │                         ║ \n",
       "«q_4: ──┼────┼────┼─────────────────────────╫─\n",
       "«     ┌─┴─┐  │    │                         ║ \n",
       "«q_5: ┤ X ├──┼────┼─────────────────────────╫─\n",
       "«     └───┘┌─┴─┐  │                         ║ \n",
       "«q_6: ─────┤ X ├──┼─────────────────────────╫─\n",
       "«          └───┘┌─┴─┐                       ║ \n",
       "«q_7: ──────────┤ X ├───────────────────────╫─\n",
       "«               └───┘                       ║ \n",
       "«c: 2/══════════════════════════════════════╩═\n",
       "«                                           1 "
      ]
     },
     "execution_count": 38,
     "metadata": {},
     "output_type": "execute_result"
    }
   ],
   "source": [
    "qc = make_qc()\n",
    "ewfs(qc, 1, 2)\n",
    "qc.draw()"
   ]
  },
  {
   "cell_type": "code",
   "execution_count": 39,
   "id": "ae5449c6",
   "metadata": {},
   "outputs": [],
   "source": [
    "# Execute the circuit on a quantum simulator\n",
    "simulator = Aer.get_backend('qasm_simulator')\n",
    "\n",
    "def execute(ewfs_qc):\n",
    "    compiled_circuit = transpile(qc, simulator)\n",
    "    qobj = assemble(compiled_circuit, shots=1000)\n",
    "    result = simulator.run(qobj).result()\n",
    "    counts = result.get_counts()\n",
    "    return counts"
   ]
  },
  {
   "cell_type": "code",
   "execution_count": 40,
   "id": "4614a0c5",
   "metadata": {},
   "outputs": [
    {
     "name": "stderr",
     "output_type": "stream",
     "text": [
      "/var/folders/vw/cdx3n5yj7xl3q3g2fv2m676m0000gp/T/ipykernel_5019/584864925.py:7: DeprecationWarning: Using a qobj for run() is deprecated as of qiskit-aer 0.9.0 and will be removed no sooner than 3 months from that release date. Transpiled circuits should now be passed directly using `backend.run(circuits, **run_options).\n",
      "  result = simulator.run(qobj).result()\n"
     ]
    },
    {
     "data": {
      "text/plain": [
       "{'00': 323, '11': 168, '10': 331, '01': 178}"
      ]
     },
     "execution_count": 40,
     "metadata": {},
     "output_type": "execute_result"
    }
   ],
   "source": [
    "execute(qc)"
   ]
  },
  {
   "cell_type": "code",
   "execution_count": 41,
   "id": "9f13a2fa",
   "metadata": {},
   "outputs": [
    {
     "name": "stderr",
     "output_type": "stream",
     "text": [
      "/var/folders/vw/cdx3n5yj7xl3q3g2fv2m676m0000gp/T/ipykernel_5019/584864925.py:7: DeprecationWarning: Using a qobj for run() is deprecated as of qiskit-aer 0.9.0 and will be removed no sooner than 3 months from that release date. Transpiled circuits should now be passed directly using `backend.run(circuits, **run_options).\n",
      "  result = simulator.run(qobj).result()\n"
     ]
    }
   ],
   "source": [
    "counts = execute(qc)"
   ]
  },
  {
   "cell_type": "code",
   "execution_count": 42,
   "id": "2b74ec6c",
   "metadata": {},
   "outputs": [
    {
     "name": "stdout",
     "output_type": "stream",
     "text": [
      "[(1, 1), (1, 2), (1, 3), (2, 1), (2, 2), (2, 3), (3, 1), (3, 2), (3, 3)]\n"
     ]
    },
    {
     "name": "stderr",
     "output_type": "stream",
     "text": [
      "/var/folders/vw/cdx3n5yj7xl3q3g2fv2m676m0000gp/T/ipykernel_5019/584864925.py:7: DeprecationWarning: Using a qobj for run() is deprecated as of qiskit-aer 0.9.0 and will be removed no sooner than 3 months from that release date. Transpiled circuits should now be passed directly using `backend.run(circuits, **run_options).\n",
      "  result = simulator.run(qobj).result()\n"
     ]
    }
   ],
   "source": [
    "numbers = [1, 2, 3]\n",
    "all_experiments = list(itertools.product(numbers, repeat=2))\n",
    "print(all_experiments) # all Alice and Bob settings\n",
    "\n",
    "results = {}\n",
    "for alice, bob in all_experiments:\n",
    "    qc = make_qc() # system + Charlie + Debbie, Alice+Bob\n",
    "    ewfs(qc, alice = alice, bob = bob)\n",
    "    counts = execute(qc)\n",
    "    # Convert counts to probabilities\n",
    "    total_shots = sum(counts.values())\n",
    "    probabilities = {key: value / total_shots for key, value in counts.items()}\n",
    "\n",
    "    results[(alice, bob)] = probabilities"
   ]
  },
  {
   "cell_type": "code",
   "execution_count": 43,
   "id": "d344b8d0",
   "metadata": {},
   "outputs": [
    {
     "data": {
      "text/plain": [
       "{(1, 1): {'10': 0.328, '00': 0.36, '01': 0.312},\n",
       " (1, 2): {'11': 0.145, '00': 0.356, '10': 0.314, '01': 0.185},\n",
       " (1, 3): {'01': 0.164, '00': 0.329, '10': 0.337, '11': 0.17},\n",
       " (2, 1): {'10': 0.174, '11': 0.168, '00': 0.658},\n",
       " (2, 2): {'01': 0.072, '11': 0.074, '00': 0.429, '10': 0.425},\n",
       " (2, 3): {'01': 0.076, '10': 0.428, '00': 0.396, '11': 0.1},\n",
       " (3, 1): {'11': 0.166, '10': 0.152, '00': 0.682},\n",
       " (3, 2): {'01': 0.089, '10': 0.438, '11': 0.08, '00': 0.393},\n",
       " (3, 3): {'01': 0.08, '11': 0.082, '00': 0.415, '10': 0.423}}"
      ]
     },
     "execution_count": 43,
     "metadata": {},
     "output_type": "execute_result"
    }
   ],
   "source": [
    "results"
   ]
  },
  {
   "cell_type": "code",
   "execution_count": 44,
   "id": "ef17d754",
   "metadata": {},
   "outputs": [],
   "source": [
    "def marginalize(bitstring_probs, indices):\n",
    "    marginalized_probs = {}\n",
    "    for bitstring, prob in bitstring_probs.items():\n",
    "        # Extract the bits at the specified indices\n",
    "        marginalized_bitstring = ''.join([bitstring[i] for i in indices])\n",
    "        \n",
    "        # Add the probability to the marginalized_probs dictionary\n",
    "        if marginalized_bitstring in marginalized_probs:\n",
    "            marginalized_probs[marginalized_bitstring] += prob\n",
    "        else:\n",
    "            marginalized_probs[marginalized_bitstring] = prob\n",
    "            \n",
    "    return marginalized_probs"
   ]
  },
  {
   "cell_type": "code",
   "execution_count": 45,
   "id": "d4403b96",
   "metadata": {},
   "outputs": [],
   "source": [
    "def single_expect(observer, setting, results): #obs = 0 for Alice and 2 for Bob\n",
    "    expect = 0\n",
    "    denom = 0\n",
    "    for settings, probs in results.items():\n",
    "        if settings[observer] == setting:\n",
    "            expect += marginalize(probs, [observer])['1']\n",
    "            denom += 1\n",
    "    return expect / denom"
   ]
  },
  {
   "cell_type": "code",
   "execution_count": 46,
   "id": "d07032fb",
   "metadata": {},
   "outputs": [
    {
     "data": {
      "text/plain": [
       "0.43133333333333335"
      ]
     },
     "execution_count": 46,
     "metadata": {},
     "output_type": "execute_result"
    }
   ],
   "source": [
    "single_expect(0, 1, results)"
   ]
  },
  {
   "cell_type": "code",
   "execution_count": 47,
   "id": "0fd5f374",
   "metadata": {},
   "outputs": [],
   "source": [
    "def double_expect(settings, results):\n",
    "    probs = results[settings]\n",
    "    try:\n",
    "        val = probs['11']\n",
    "    except KeyError:\n",
    "        val = 0\n",
    "    return val"
   ]
  },
  {
   "cell_type": "code",
   "execution_count": 48,
   "id": "ee4475d6",
   "metadata": {},
   "outputs": [
    {
     "data": {
      "text/plain": [
       "0.145"
      ]
     },
     "execution_count": 48,
     "metadata": {},
     "output_type": "execute_result"
    }
   ],
   "source": [
    "double_expect((1, 2), results)"
   ]
  },
  {
   "cell_type": "code",
   "execution_count": 49,
   "id": "0ec5ec66",
   "metadata": {},
   "outputs": [],
   "source": [
    "def check_LF1(results):\n",
    "    singles = -single_expect(0, 1, results) - single_expect(0, 2, results)\n",
    "    singles += -single_expect(1, 1, results) - single_expect(1, 2, results)\n",
    "    a1b1 = double_expect((1, 1), results)\n",
    "    a1b2 = double_expect((1, 2), results)\n",
    "    a2b1 = double_expect((2, 1), results)\n",
    "    a2b2 = double_expect((2, 2), results)\n",
    "    a2b3 = double_expect((2, 3), results)\n",
    "    a3b2 = double_expect((3, 2), results)\n",
    "    a3b3 = double_expect((3, 3), results)\n",
    "    singles += -a1b1 - 2*a1b2 - 2*a2b1 + 2*a2b2\n",
    "    singles += -a2b3 - a3b2 - a3b3\n",
    "    return singles - 6 # a violation of LF is when > 0"
   ]
  },
  {
   "cell_type": "code",
   "execution_count": 50,
   "id": "fffa0380",
   "metadata": {},
   "outputs": [
    {
     "data": {
      "text/plain": [
       "-8.058"
      ]
     },
     "execution_count": 50,
     "metadata": {},
     "output_type": "execute_result"
    }
   ],
   "source": [
    "check_LF1(results)"
   ]
  },
  {
   "cell_type": "code",
   "execution_count": 28,
   "id": "da90e380",
   "metadata": {},
   "outputs": [],
   "source": [
    "def run_ewfs(angles):\n",
    "    numbers = [1, 2, 3]\n",
    "    all_experiments = list(itertools.product(numbers, repeat=2))\n",
    "\n",
    "    results = {}\n",
    "    for alice, bob in all_experiments:\n",
    "        qc = make_qc() # system + Charlie + Debbie, Alice+Bob\n",
    "        ewfs(qc, alice = alice, bob = bob, angles=angles)\n",
    "        counts = execute(qc)\n",
    "        # Convert counts to probabilities\n",
    "        total_shots = sum(counts.values())\n",
    "        probabilities = {key: value / total_shots for key, value in counts.items()}\n",
    "\n",
    "        results[(alice, bob)] = probabilities\n",
    "    return results"
   ]
  },
  {
   "cell_type": "code",
   "execution_count": 29,
   "id": "07db84dc",
   "metadata": {},
   "outputs": [
    {
     "name": "stderr",
     "output_type": "stream",
     "text": [
      "/var/folders/vw/cdx3n5yj7xl3q3g2fv2m676m0000gp/T/ipykernel_5019/584864925.py:7: DeprecationWarning: Using a qobj for run() is deprecated as of qiskit-aer 0.9.0 and will be removed no sooner than 3 months from that release date. Transpiled circuits should now be passed directly using `backend.run(circuits, **run_options).\n",
      "  result = simulator.run(qobj).result()\n"
     ]
    }
   ],
   "source": [
    "grid = np.linspace(0, np.pi/2, 20)\n",
    "lf_vals = np.zeros((len(grid), len(grid)))\n",
    "for t1, t2 in itertools.product(range(0, len(grid)), range(0, len(grid))):\n",
    "    res = run_ewfs([grid[t1], grid[t2]])\n",
    "    lf_vals[t1][t2] = check_LF1(res)"
   ]
  },
  {
   "cell_type": "code",
   "execution_count": 30,
   "id": "d9e65b51",
   "metadata": {},
   "outputs": [
    {
     "data": {
      "image/png": "[encoded data removed]",
      "text/plain": [
       "<Figure size 640x480 with 2 Axes>"
      ]
     },
     "metadata": {},
     "output_type": "display_data"
    }
   ],
   "source": [
    "# Create a 2D color plot using imshow\n",
    "X, Y = grid, grid\n",
    "Z = lf_vals\n",
    "plt.imshow(Z, extent=[X.min(), X.max(), Y.min(), Y.max()], origin='lower', cmap='viridis')\n",
    "plt.colorbar(label='Z value')\n",
    "plt.xlabel('X')\n",
    "plt.ylabel('Y')\n",
    "plt.title('2D Color Plot of Z = f(X, Y)')\n",
    "plt.show()"
   ]
  },
  {
   "cell_type": "markdown",
   "id": "b7518976",
   "metadata": {},
   "source": [
    "### Projector Math"
   ]
  },
  {
   "cell_type": "code",
   "execution_count": 119,
   "id": "c69e4fab",
   "metadata": {},
   "outputs": [],
   "source": [
    "H = np.asarray([1, 0])\n",
    "V = np.asarray([0, 1])"
   ]
  },
  {
   "cell_type": "code",
   "execution_count": 164,
   "id": "a0268860",
   "metadata": {},
   "outputs": [],
   "source": [
    "rads = lambda degrees: degrees / 360 * 2 * np.pi\n",
    "args = [rads(168), 0, rads(118)]\n",
    "beta = rads(175)\n",
    "\n",
    "ketphi = lambda x: 1 / np.sqrt(2) * (H + np.exp(1.j * args[x-1]) * V)\n",
    "Pi_a = lambda x: np.outer(ketphi(x), ketphi(x))\n",
    "A = lambda x: 2*Pi_a(x) - np.outer(H, H) - np.outer(V, V)\n",
    "\n",
    "ketbeta = lambda x: 1 / np.sqrt(2) * (H + np.exp(1.j * (beta-args[x-1])) * V)\n",
    "Pi_b = lambda x: np.outer(ketbeta(x), ketbeta(x))\n",
    "B = lambda x: 2*Pi_b(x) - np.outer(H, H) - np.outer(V, V)"
   ]
  },
  {
   "cell_type": "code",
   "execution_count": 168,
   "id": "d73949ee",
   "metadata": {},
   "outputs": [
    {
     "data": {
      "text/plain": [
       "array([[-2.22044605e-16+0.j,  1.00000000e+00+0.j],\n",
       "       [ 1.00000000e+00+0.j, -2.22044605e-16+0.j]])"
      ]
     },
     "execution_count": 168,
     "metadata": {},
     "output_type": "execute_result"
    }
   ],
   "source": [
    "A(2)"
   ]
  },
  {
   "cell_type": "code",
   "execution_count": 167,
   "id": "f13fb46d",
   "metadata": {},
   "outputs": [
    {
     "data": {
      "text/plain": [
       "array([[-2.22044605e-16+0.j        , -9.96194698e-01+0.08715574j],\n",
       "       [-9.96194698e-01+0.08715574j, -1.51922470e-02-0.17364818j]])"
      ]
     },
     "execution_count": 167,
     "metadata": {},
     "output_type": "execute_result"
    }
   ],
   "source": [
    "B(2)"
   ]
  },
  {
   "cell_type": "code",
   "execution_count": null,
   "id": "3d68b307",
   "metadata": {},
   "outputs": [],
   "source": []
  }
 ],
 "metadata": {
  "kernelspec": {
   "display_name": "wf",
   "language": "python",
   "name": "wf"
  },
  "language_info": {
   "codemirror_mode": {
    "name": "ipython",
    "version": 3
   },
   "file_extension": ".py",
   "mimetype": "text/x-python",
   "name": "python",
   "nbconvert_exporter": "python",
   "pygments_lexer": "ipython3",
   "version": "3.11.0"
  }
 },
 "nbformat": 4,
 "nbformat_minor": 5
}
