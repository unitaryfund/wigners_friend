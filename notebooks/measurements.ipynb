{
 "cells": [
  {
   "cell_type": "markdown",
   "id": "d8388881",
   "metadata": {},
   "source": [
    "# Measurements for extended Wigner's friend scenario"
   ]
  },
  {
   "cell_type": "code",
   "execution_count": 1,
   "id": "04b56616",
   "metadata": {},
   "outputs": [],
   "source": [
    "import numpy as np\n",
    "\n",
    "ANGLES = {1: 168, 2: 0, 3: 118}\n",
    "BETA = 175\n",
    "\n",
    "e0 = np.asarray([1, 0])\n",
    "e1 = np.asarray([0, 1])\n",
    "\n",
    "def phi(x: int):\n",
    "    return 1/np.sqrt(2) * (e0 + np.exp(1j * ANGLES[x]) * e1)\n",
    "\n",
    "def psi(y: int):\n",
    "    return 1/np.sqrt(2) * (e0 + np.exp(1j * (BETA - ANGLES[y])) * e1)\n",
    "\n",
    "def alice_measurement(x: int) -> np.ndarray:\n",
    "    proj_a = np.outer(phi(x), phi(x))\n",
    "    return 2 * proj_a - np.outer(e0, e0) - np.outer(e1, e1)\n",
    "\n",
    "def bob_measurement(y: int) -> np.ndarray:\n",
    "    proj_b = np.outer(psi(y), psi(y))\n",
    "    return 2 * proj_b - np.outer(e0, e0) - np.outer(e1, e1)"
   ]
  },
  {
   "cell_type": "code",
   "execution_count": 4,
   "id": "ffd41de7",
   "metadata": {},
   "outputs": [
    {
     "name": "stdout",
     "output_type": "stream",
     "text": [
      "[[-2.22044605e-16+0.j  1.00000000e+00+0.j]\n",
      " [ 1.00000000e+00+0.j -2.22044605e-16+0.j]]\n"
     ]
    }
   ],
   "source": [
    "print(alice_measurement(2))"
   ]
  },
  {
   "cell_type": "code",
   "execution_count": 6,
   "id": "f57fd5ad",
   "metadata": {},
   "outputs": [
    {
     "name": "stdout",
     "output_type": "stream",
     "text": [
      "For Alice with theta_x = 168, alpha = 1.5707963267948966, beta = -168\n",
      "For Bob with theta_y = 0, alpha = 1.5707963267948966, beta = 175\n"
     ]
    }
   ],
   "source": [
    "\n",
    "def find_angles(theta_x=None, theta_y=None, beta=175):\n",
    "    # For Alice\n",
    "    if theta_x is not None:\n",
    "        alpha_a = np.pi / 2\n",
    "        beta_a = -theta_x\n",
    "        print(f\"For Alice with theta_x = {theta_x}, alpha = {alpha_a}, beta = {beta_a}\")\n",
    "\n",
    "    # For Bob\n",
    "    if theta_y is not None:\n",
    "        alpha_b = np.pi / 2\n",
    "        beta_b = beta - theta_y\n",
    "        print(f\"For Bob with theta_y = {theta_y}, alpha = {alpha_b}, beta = {beta_b}\")\n",
    "\n",
    "# Test the function\n",
    "find_angles(theta_x=168, theta_y=0)"
   ]
  },
  {
   "cell_type": "code",
   "execution_count": null,
   "id": "b003886f",
   "metadata": {},
   "outputs": [],
   "source": []
  }
 ],
 "metadata": {
  "kernelspec": {
   "display_name": "wf",
   "language": "python",
   "name": "wf"
  },
  "language_info": {
   "codemirror_mode": {
    "name": "ipython",
    "version": 3
   },
   "file_extension": ".py",
   "mimetype": "text/x-python",
   "name": "python",
   "nbconvert_exporter": "python",
   "pygments_lexer": "ipython3",
   "version": "3.11.0"
  }
 },
 "nbformat": 4,
 "nbformat_minor": 5
}
