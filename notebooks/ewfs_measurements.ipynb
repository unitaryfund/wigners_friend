{
 "cells": [
  {
   "cell_type": "markdown",
   "id": "92db2b58",
   "metadata": {},
   "source": [
    "# Extended Wigner's friend scenario"
   ]
  },
  {
   "cell_type": "markdown",
   "id": "ab657876",
   "metadata": {},
   "source": [
    "An adapted notebook from Will pertaining to the extended Wigner's friend scenario.\n",
    "\n",
    "This notebook is intended to run a benchmark to show a local friendliness violation from an extended Wigner's Friend scenario running on a QPU. For our friends we will use a GHZ state of increasing size. First we run on a simulator, then a noisy simulator, then on a real QPU.\n",
    "\n",
    "Relevant References:\n",
    "- [1]: [\"A strong no-go theorem on the Wigner's friend paradox\"](https://arxiv.org/abs/1907.05607)\n",
    "\n",
    "- [2]: [\"A scalable tripartite Wigner's friend scenario\"](https://arxiv.org/abs/2109.02298)\n",
    "\n",
    "- [3]: [\"Thought experiments in a quantum computer\"](https://arxiv.org/abs/2209.06236)"
   ]
  },
  {
   "cell_type": "markdown",
   "id": "eabb03d4",
   "metadata": {},
   "source": [
    "## Imports"
   ]
  },
  {
   "cell_type": "code",
   "execution_count": 1,
   "id": "78cdb99c",
   "metadata": {},
   "outputs": [],
   "source": [
    "from typing import Optional\n",
    "import numpy as np\n",
    "import itertools\n",
    "import random\n",
    "import matplotlib.pyplot as plt\n",
    "from enum import Enum\n",
    "from tqdm import tqdm\n",
    "\n",
    "import qiskit\n",
    "from qiskit import QuantumCircuit, Aer, transpile, assemble\n",
    "from qiskit_aer import AerSimulator\n",
    "from qiskit.visualization import plot_histogram\n",
    "\n",
    "from qiskit import QuantumCircuit, QuantumRegister\n",
    "from qiskit.quantum_info.operators import Operator\n",
    "from qiskit.extensions import UnitaryGate\n",
    "from qiskit.visualization import plot_histogram"
   ]
  },
  {
   "cell_type": "markdown",
   "id": "dac3c05a",
   "metadata": {},
   "source": [
    "## Constants"
   ]
  },
  {
   "cell_type": "code",
   "execution_count": 2,
   "id": "d46d69df",
   "metadata": {},
   "outputs": [],
   "source": [
    "# Settings for extended Wigner's friend scenario.\n",
    "class Setting(Enum):\n",
    "    PEEK = 1\n",
    "    REVERSE_1 = 2\n",
    "    REVERSE_2 = 3\n",
    "\n",
    "PEEK = Setting.PEEK.value\n",
    "REVERSE_1 = Setting.REVERSE_1.value\n",
    "REVERSE_2 = Setting.REVERSE_2.value\n",
    "SETTINGS = [PEEK, REVERSE_1, REVERSE_2]\n",
    "\n",
    "# Observers for scenario are Alice and Bob.\n",
    "class Observer(Enum):\n",
    "    ALICE = 0\n",
    "    BOB = 1\n",
    "\n",
    "ALICE = Observer.ALICE.value\n",
    "BOB = Observer.BOB.value\n",
    "OBSERVERS = [ALICE, BOB]\n",
    "    \n",
    "# Size of the bipartite quantum system.\n",
    "SYS_SIZE = 2\n",
    "\n",
    "# Size of the systems held by the \"friends\" (Charlie and Debbie).\n",
    "CHARLIE_SIZE = 3\n",
    "DEBBIE_SIZE = 3\n",
    "\n",
    "# Two output bits for Alice and Bob.\n",
    "MEAS_SIZE = 2\n",
    "\n",
    "# Size of entire circuit\n",
    "CIRCUIT_SIZE = SYS_SIZE + CHARLIE_SIZE + DEBBIE_SIZE\n",
    "\n",
    "# Angles and beta term used for Alice and Bob measurement operators from arXiv:1907.05607.\n",
    "# Note that despite the fact that degrees are used, we need to convert this to radians.\n",
    "ANGLES = {PEEK: np.deg2rad(168), REVERSE_1: np.deg2rad(0), REVERSE_2: np.deg2rad(118)}\n",
    "BETA = np.deg2rad(175)\n",
    "\n",
    "# Standard |0> and |1> \n",
    "e0, e1 = np.asarray([1, 0]), np.asarray([0, 1])"
   ]
  },
  {
   "cell_type": "code",
   "execution_count": 3,
   "id": "1830041f",
   "metadata": {},
   "outputs": [],
   "source": [
    "# Ideal simulator backend.\n",
    "backend = AerSimulator()\n",
    "svsim = Aer.get_backend(\"statevector_simulator\")"
   ]
  },
  {
   "cell_type": "markdown",
   "id": "c90db58d",
   "metadata": {},
   "source": [
    "## State preparation"
   ]
  },
  {
   "cell_type": "code",
   "execution_count": 4,
   "id": "8d9e9065",
   "metadata": {},
   "outputs": [],
   "source": [
    "def prepare_bipartite_system() -> QuantumCircuit:\n",
    "    \"\"\"Generates the state: 1/sqrt(3) * (|00> + |01> + |10>)\"\"\"\n",
    "    qc = QuantumCircuit(2)\n",
    "    qc.ry(2 * np.arccos(np.sqrt(2/3)), 0)\n",
    "    qc.ry(np.pi/4, 1)\n",
    "    qc.x(0)\n",
    "    qc.cx(0, 1)\n",
    "    qc.x(0)\n",
    "    qc.ry(-np.pi/4, 1) \n",
    "    return qc"
   ]
  },
  {
   "cell_type": "markdown",
   "id": "4d0e77a6",
   "metadata": {},
   "source": [
    "Confirm that the state preparation circuit generates $|\\psi\\rangle = \\frac{1}{\\sqrt{3}}\\left(|00\\rangle + |01\\rangle + 10\\rangle\\right)$:"
   ]
  },
  {
   "cell_type": "code",
   "execution_count": 5,
   "id": "43978212",
   "metadata": {},
   "outputs": [
    {
     "name": "stdout",
     "output_type": "stream",
     "text": [
      "{'00': 0.333333333333333, '01': 0.333333333333333, '10': 0.333333333333333}\n"
     ]
    }
   ],
   "source": [
    "circuit = prepare_bipartite_system()\n",
    "print(svsim.run(circuit).result().get_counts())"
   ]
  },
  {
   "cell_type": "markdown",
   "id": "78e5d102",
   "metadata": {},
   "source": [
    "## CNOT ladder circuit"
   ]
  },
  {
   "cell_type": "code",
   "execution_count": 6,
   "id": "8c786b34",
   "metadata": {},
   "outputs": [],
   "source": [
    "def cnot_ladder(system_qubit: int, friend_qubit: int, friend_size: int) -> QuantumCircuit:\n",
    "    \"\"\"CNOT ladder circuit (GHZ without Hadamard).\"\"\"\n",
    "    circuit = QuantumCircuit(CIRCUIT_SIZE)\n",
    "    for i in range(friend_size):\n",
    "        circuit.cx(system_qubit, friend_qubit + i)\n",
    "    return circuit"
   ]
  },
  {
   "cell_type": "code",
   "execution_count": 7,
   "id": "9189c6f6",
   "metadata": {
    "scrolled": true
   },
   "outputs": [
    {
     "data": {
      "image/png": "[encoded data removed]",
      "text/plain": [
       "<Figure size 371.107x702.333 with 1 Axes>"
      ]
     },
     "execution_count": 7,
     "metadata": {},
     "output_type": "execute_result"
    }
   ],
   "source": [
    "cnot_ladder(ALICE, SYS_SIZE, CHARLIE_SIZE).draw(\"mpl\")"
   ]
  },
  {
   "cell_type": "markdown",
   "id": "f555e5e8",
   "metadata": {},
   "source": [
    "## Projective measurements for Alice and Bob"
   ]
  },
  {
   "cell_type": "markdown",
   "id": "9ee3e7c7",
   "metadata": {},
   "source": [
    "In [[1]](https://arxiv.org/pdf/1907.05607.pdf), the authors define a set of measurement operators for Alice and Bob as\n",
    "\n",
    "$$\n",
    "A_x = 2 \\Pi_x^{a=1} - |0\\rangle \\langle 0| - |1 \\rangle \\langle 1|\n",
    "\\quad \\text{and} \\quad\n",
    "B_y = 2 \\Pi_y^{b=1} - |0\\rangle \\langle 0| - |1 \\rangle \\langle 1|\n",
    "$$\n",
    "\n",
    "where $\\Pi_x^{a=1} = |\\phi_x\\rangle \\langle \\phi_x|$ and $\\Pi_y^{b=1} = |\\psi_y\\rangle \\langle \\psi_y|$ project onto $|\\phi_x\\rangle$ and $|\\psi_y\\rangle$, respectively defined as\n",
    "\n",
    "$$\n",
    "|\\phi_x\\rangle = \\frac{1}{\\sqrt{2}} \\left(|0\\rangle + e^{i \\theta_x} |1 \\rangle \\right)\n",
    "\\quad \\text{and} \\quad\n",
    "|\\psi_y\\rangle = \\frac{1}{\\sqrt{2}} \\left(|0\\rangle + e^{i (\\beta - \\theta_y)} |1\\rangle \\right)\n",
    "$$\n",
    "\n",
    "such that $\\theta_1 = 168^{\\circ}, \\theta_2 = 0^{\\circ}, \\theta_3 = 118^{\\circ}$, and $\\beta = 175^{\\circ}$."
   ]
  },
  {
   "cell_type": "code",
   "execution_count": 8,
   "id": "af6756d0",
   "metadata": {},
   "outputs": [],
   "source": [
    "def phi(x: int) -> np.ndarray:\n",
    "    return 1/np.sqrt(2) * (e0 + np.exp(1j * ANGLES[x]) * e1)\n",
    "\n",
    "def psi(y: int) -> np.ndarray:\n",
    "    return 1/np.sqrt(2) * (e0 + np.exp(1j * (BETA - ANGLES[y])) * e1)\n",
    "\n",
    "def alice_measurement(x: int) -> np.ndarray:\n",
    "    proj_a = np.outer(phi(x), phi(x))\n",
    "    return 2 * proj_a - np.outer(e0, e0) - np.outer(e1, e1)\n",
    "\n",
    "def bob_measurement(y: int) -> np.ndarray:\n",
    "    proj_b = np.outer(psi(y), psi(y))\n",
    "    return 2 * proj_b - np.outer(e0, e0) - np.outer(e1, e1)"
   ]
  },
  {
   "cell_type": "markdown",
   "id": "4de88be6",
   "metadata": {},
   "source": [
    "We want to write these measurements in terms of the $Rx(\\alpha)$ and $Rz(\\gamma)$ acting\n",
    "on $|0\\rangle$ as follows:\n",
    "\n",
    "$$\n",
    "|\\psi\\rangle = Rx(\\alpha) R_z(\\gamma) |0\\rangle.\n",
    "$$\n",
    "\n",
    "The $Rz(\\gamma)$ gate acts first on $|0\\rangle$:\n",
    "\n",
    "$$\n",
    "Rz(\\gamma)|0\\rangle = e^{-i\\gamma/2}|0\\rangle.\n",
    "$$\n",
    "\n",
    "Then, the $Rx(\\alpha)$ gate acts on this state:\n",
    "\n",
    "$$\n",
    "Rx(\\alpha)e^{-i \\gamma/2}|0\\rangle = \n",
    "e^{-i\\gamma/2}\\cos(\\alpha/2)|0\\rangle - i e^{-i \\gamma/2} \\sin(\\alpha/2) |1\\rangle.\n",
    "$$\n",
    "\n",
    "To find $\\alpha$ and $\\gamma$ that result in $|\\phi_x\\rangle$ or $|\\psi_y\\rangle$, we should equate this expression to the desired states $|\\phi_x\\rangle$ and $|\\psi_y\\rangle$.\n",
    "\n",
    "For Alice's state $|\\phi_x\\rangle$:\n",
    "\n",
    "$$\n",
    "|\\phi_x\\rangle = \\frac{1}{\\sqrt{2}} \\left(|0\\rangle + e^{i \\theta_x} |1\\rangle \\right).\n",
    "$$\n",
    "\n",
    "We can write:\n",
    "\n",
    "$$\n",
    "e^{-i\\gamma/2}\\cos(\\alpha/2)|0\\rangle - ie^{-i\\gamma/2}\\sin(\\alpha/2)|1\\rangle = \\frac{1}{\\sqrt{2}} \\left(|0\\rangle + e^{i \\theta_x} |1\\rangle \\right).\n",
    "$$\n",
    "\n",
    "From the above equation, we can set the coefficients for $|0\\rangle$ and $|1\\rangle$ equal on both sides to find:\n",
    "\n",
    "$$\n",
    "\\alpha = 2 \\arccos \\left(\\frac{1}{\\sqrt{2}}\\right) = \\frac{\\pi}{2}\n",
    "\\quad \\text{and} \\quad\n",
    "\\gamma = -\\theta_x.\n",
    "$$\n",
    "\n",
    "Similarly, for Bob's state $|\\psi_y\\rangle$:\n",
    "\n",
    "$$\n",
    "|\\psi_y\\rangle = \\frac{1}{\\sqrt{2}}\\left(|0\\rangle + e^{i(\\beta - \\theta_y)}|1\\rangle\\right)\n",
    "$$\n",
    "\n",
    "to be achieved by these rotation gates, we find:\n",
    "\n",
    "$$\n",
    "\\alpha = \\frac{\\pi}{2} \n",
    "\\quad \\text{and} \\quad\n",
    "\\gamma = \\beta - \\theta_y.\n",
    "$$\n"
   ]
  },
  {
   "cell_type": "markdown",
   "id": "64692f24",
   "metadata": {},
   "source": [
    "## Circuit for extended Wigner's friend scenario"
   ]
  },
  {
   "cell_type": "code",
   "execution_count": 9,
   "id": "f5a4f1a1",
   "metadata": {},
   "outputs": [],
   "source": [
    "def ewfs(alice_setting: Setting, bob_setting: Setting) -> QuantumCircuit:\n",
    "    \"\"\"Generate the circuit for extended Wigner's friend scenario.\"\"\"    \n",
    "    # Observable circuits\n",
    "    charlie_obs = cnot_ladder(ALICE, SYS_SIZE, CHARLIE_SIZE)\n",
    "    debbie_obs = cnot_ladder(BOB, SYS_SIZE + CHARLIE_SIZE, DEBBIE_SIZE)\n",
    "        \n",
    "    # Initialize circuit that defines the extended scenario.\n",
    "    qc = QuantumCircuit(CIRCUIT_SIZE, MEAS_SIZE)\n",
    "    \n",
    "    # State prep\n",
    "    qc = qc.compose(prepare_bipartite_system())    \n",
    "\n",
    "    # Apply observable circuits for Charlie and Debbie.\n",
    "    qc = qc.compose(charlie_obs)\n",
    "    qc = qc.compose(debbie_obs)   \n",
    "    \n",
    "    # 0: Charlie system; 2: Charlie; [0]: Alice\n",
    "    if alice_setting is PEEK:\n",
    "        # Ask Charlie for the outcome. We pick a random qubit from Charlie's register.\n",
    "        random_offset = random.randint(0, CHARLIE_SIZE-1)\n",
    "        qc.measure(SYS_SIZE + random_offset, ALICE)\n",
    "    else:\n",
    "        # Undo the measurement\n",
    "        qc = qc.compose(charlie_obs)\n",
    "        \n",
    "        # For either REVERSE_1 or REVERSE_2, apply the appropriate angle rotations.\n",
    "        qc.rz(np.pi/2, ALICE)\n",
    "        qc.rx(-ANGLES[alice_setting], ALICE)\n",
    "        \n",
    "        qc.measure(ALICE, ALICE)\n",
    "    \n",
    "    # 1: Debbie system; 3: Debbie; [1]: Bob\n",
    "    if bob_setting is PEEK:\n",
    "        # Ask Debbie for the outcome. We pick a random qubit from Debbie's register.\n",
    "        random_offset = random.randint(0, DEBBIE_SIZE-1)\n",
    "        qc.measure(SYS_SIZE + CHARLIE_SIZE + random_offset, BOB)\n",
    "    else:\n",
    "        # Undo the measurement\n",
    "        qc = qc.compose(debbie_obs)    \n",
    "\n",
    "        # For either REVERSE_1 or REVERSE_2, apply the appropriate angle rotations.    \n",
    "        qc.rz(np.pi/2, BOB)\n",
    "        qc.rx(BETA - ANGLES[bob_setting], BOB)\n",
    "\n",
    "        qc.measure(BOB, BOB)    \n",
    "        \n",
    "    return qc"
   ]
  },
  {
   "cell_type": "code",
   "execution_count": 10,
   "id": "34e49306",
   "metadata": {
    "scrolled": true
   },
   "outputs": [
    {
     "data": {
      "image/png": "[encoded data removed]",
      "text/plain": [
       "<Figure size 1541.66x785.944 with 1 Axes>"
      ]
     },
     "execution_count": 10,
     "metadata": {},
     "output_type": "execute_result"
    }
   ],
   "source": [
    "qc = ewfs(PEEK, REVERSE_1)\n",
    "qc.draw(\"mpl\")"
   ]
  },
  {
   "cell_type": "code",
   "execution_count": 11,
   "id": "84d54f8e",
   "metadata": {},
   "outputs": [
    {
     "name": "stdout",
     "output_type": "stream",
     "text": [
      "Counts: {'01': 337, '00': 313, '10': 374}\n"
     ]
    }
   ],
   "source": [
    "ewfs_circuit = ewfs(PEEK, PEEK)\n",
    "\n",
    "result = backend.run(ewfs_circuit).result()\n",
    "counts = result.get_counts(0)\n",
    "print(f\"Counts: {counts}\")"
   ]
  },
  {
   "cell_type": "markdown",
   "id": "e2644123",
   "metadata": {},
   "source": [
    "## Consider all experimental settings"
   ]
  },
  {
   "cell_type": "code",
   "execution_count": 12,
   "id": "50259fc9",
   "metadata": {},
   "outputs": [],
   "source": [
    "def generate_all_experiments():\n",
    "    \"\"\"Generate probabilitites for all combinations of experimental settings.\"\"\"\n",
    "    all_experiment_combos = list(itertools.product(SETTINGS, repeat=2))\n",
    "\n",
    "    results = {}\n",
    "    for alice, bob in all_experiment_combos:\n",
    "        ewfs_circuit = ewfs(alice, bob)\n",
    "        result = backend.run(ewfs_circuit).result()\n",
    "        counts = result.get_counts(0)\n",
    "\n",
    "        # Convert counts to probabilities.\n",
    "        total_shots = sum(counts.values())\n",
    "        probabilities = {key: value / total_shots for key, value in counts.items()}\n",
    "\n",
    "        results[(alice, bob)] = probabilities\n",
    "    return results"
   ]
  },
  {
   "cell_type": "markdown",
   "id": "ba065ec4",
   "metadata": {},
   "source": [
    "## Expectation values"
   ]
  },
  {
   "cell_type": "code",
   "execution_count": 13,
   "id": "c97a1622",
   "metadata": {},
   "outputs": [],
   "source": [
    "def marginalize(bitstring_probs, indices):\n",
    "    marginalized_probs = {}\n",
    "    for bitstring, prob in bitstring_probs.items():\n",
    "        # Extract the bits at the specified indices.\n",
    "        marginalized_bitstring = \"\".join([bitstring[i] for i in indices])\n",
    "        \n",
    "        # Add the probability to the marginalized_probs dictionary.\n",
    "        if marginalized_bitstring in marginalized_probs:\n",
    "            marginalized_probs[marginalized_bitstring] += prob\n",
    "        else:\n",
    "            marginalized_probs[marginalized_bitstring] = prob\n",
    "            \n",
    "    return marginalized_probs"
   ]
  },
  {
   "cell_type": "code",
   "execution_count": 14,
   "id": "109394a0",
   "metadata": {},
   "outputs": [],
   "source": [
    "def single_expect(observer: Observer, setting: Setting, results: dict): #obs = 0 for Alice and 2 for Bob\n",
    "    \"\"\"Expectation value of single operator.\"\"\"\n",
    "    expect, denom = 0, 0\n",
    "    for settings, probs in results.items():\n",
    "        if settings[observer] is setting:\n",
    "            expect += marginalize(probs, [observer])[\"1\"]\n",
    "            denom += 1\n",
    "    return expect / denom"
   ]
  },
  {
   "cell_type": "code",
   "execution_count": 15,
   "id": "b0b4f78e",
   "metadata": {},
   "outputs": [],
   "source": [
    "def double_expect(settings, results):\n",
    "    \"\"\"Expectation value of product of two operators.\"\"\"\n",
    "    probs = results[settings]\n",
    "    try:\n",
    "        val = probs[\"11\"]\n",
    "    except KeyError:\n",
    "        val = 0\n",
    "    return val"
   ]
  },
  {
   "cell_type": "markdown",
   "id": "162be586",
   "metadata": {},
   "source": [
    "## Inequalities"
   ]
  },
  {
   "cell_type": "code",
   "execution_count": 16,
   "id": "7ddf19dc",
   "metadata": {},
   "outputs": [],
   "source": [
    "results = generate_all_experiments()"
   ]
  },
  {
   "cell_type": "code",
   "execution_count": 17,
   "id": "d1381e25",
   "metadata": {},
   "outputs": [],
   "source": [
    "A1 = single_expect(ALICE, PEEK, results)\n",
    "B1 = single_expect(BOB, PEEK, results)\n",
    "\n",
    "A2 = single_expect(ALICE, REVERSE_1, results)\n",
    "B2 = single_expect(BOB, REVERSE_1, results)\n",
    "\n",
    "A3 = single_expect(ALICE, REVERSE_2, results)\n",
    "B3 = single_expect(BOB, REVERSE_2, results)\n",
    "\n",
    "A1B1 = double_expect((PEEK, PEEK), results)\n",
    "A1B2 = double_expect((PEEK, REVERSE_1), results)\n",
    "A1B3 = double_expect((PEEK, REVERSE_2), results)\n",
    "\n",
    "A2B1 = double_expect((REVERSE_1, PEEK), results)\n",
    "A2B2 = double_expect((REVERSE_1, REVERSE_1), results)\n",
    "A2B3 = double_expect((REVERSE_1, REVERSE_2), results)\n",
    "\n",
    "A3B1 = double_expect((REVERSE_2, PEEK), results)\n",
    "A3B2 = double_expect((REVERSE_2, REVERSE_1), results)\n",
    "A3B3 = double_expect((REVERSE_2, REVERSE_2), results)"
   ]
  },
  {
   "cell_type": "code",
   "execution_count": 18,
   "id": "a3125e19",
   "metadata": {},
   "outputs": [
    {
     "name": "stdout",
     "output_type": "stream",
     "text": [
      "******Inequalities******\n",
      "semi-brukner: -2.8408203125 -- is violated: False\n",
      "brukner: -2.1650390625 -- is violated: False\n",
      "lf_1: -8.408854166666666 -- is violated: False\n",
      "lf_2: -6.629231770833334 -- is violated: False\n",
      "lf_3: -4.9677734375 -- is_violated: False\n",
      "lf_4: -6.798177083333333 -- is_violated: False\n",
      "pos_1: 1.8792317708333335 -- is_violated: False\n",
      "pos_2: 2.1985677083333335 -- is_violated: False\n",
      "pos_3: 2.2151692708333335 -- is_violated: False\n",
      "**************************\n"
     ]
    }
   ],
   "source": [
    "# Local-friendliness inequalities:\n",
    "# Eq. (13) from [1].\n",
    "lf_1 = -A1 - A2 - B1 - B2 - A1B1 - 2*A1B2 - 2*A2B1 + 2*A2B2 - A2B3 - A3B2 - A3B3 - 6\n",
    "# Eq. (14) from [1].\n",
    "lf_2 = -A1 - A2 - A3 - B1 - A1B1 - A2B1 - A3B1 - 2*A1B2 + A2B2 + A3B2 - A2B3 + A3B3 - 5\n",
    "# Eq. (15) from [1].\n",
    "lf_3 = -A1 + A2 + B1 - B2 + A1B1 - A1B2 - A1B3 - A2B1 + A2B2 - A2B3 - A3B1 - A3B2 - 4 \n",
    "# Eq. (16) from [1].\n",
    "lf_4 = -A2 - A3 - B2 - B3 - A1B2 + A1B3 - A2B1 - A2B2 - A2B3 + A3B1 - A3B2 - A3B3 - 4\n",
    "\n",
    "# Brukner inequalities:\n",
    "# Eq. (17) from [1].\n",
    "brukner = A1B1 - A1B3 - A2B1 - A2B3 - 2\n",
    "# Eq. (18) from [1].\n",
    "semi_brukner = -A1B2 + A1B3 - A3B2 - A3B3 - 2\n",
    "\n",
    "# Positivity inequalities:\n",
    "# Eq. (19) from [1].\n",
    "pos_1 = 1 + A1 + B1 + A1B1\n",
    "# Eq. (20) from [1].\n",
    "pos_2 = 1 + A1 + B2 + A1B2\n",
    "# Eq. (21) from [1].\n",
    "pos_3 = 1 + A2 + B2 + A2B2\n",
    "\n",
    "print(\"******Inequalities******\")\n",
    "print(f\"semi-brukner: {semi_brukner} -- is violated: {semi_brukner > 0}\")\n",
    "print(f\"brukner: {brukner} -- is violated: {brukner > 0}\")\n",
    "print(f\"lf_1: {lf_1} -- is violated: {lf_1 > 0}\")\n",
    "print(f\"lf_2: {lf_2} -- is violated: {lf_2 > 0}\")\n",
    "print(f\"lf_3: {lf_3} -- is_violated: {lf_3 > 0}\")\n",
    "print(f\"lf_4: {lf_4} -- is_violated: {lf_4 > 0}\")\n",
    "print(f\"pos_1: {pos_1} -- is_violated: {pos_1 < 0}\")\n",
    "print(f\"pos_2: {pos_2} -- is_violated: {pos_2 < 0}\")\n",
    "print(f\"pos_3: {pos_3} -- is_violated: {pos_3 < 0}\")\n",
    "print(\"**************************\")"
   ]
  }
 ],
 "metadata": {
  "kernelspec": {
   "display_name": "wf",
   "language": "python",
   "name": "wf"
  },
  "language_info": {
   "codemirror_mode": {
    "name": "ipython",
    "version": 3
   },
   "file_extension": ".py",
   "mimetype": "text/x-python",
   "name": "python",
   "nbconvert_exporter": "python",
   "pygments_lexer": "ipython3",
   "version": "3.11.0"
  }
 },
 "nbformat": 4,
 "nbformat_minor": 5
}
