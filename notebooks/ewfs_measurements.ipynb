{
 "cells": [
  {
   "cell_type": "markdown",
   "id": "92db2b58",
   "metadata": {},
   "source": [
    "# Extended Wigner's friend scenario"
   ]
  },
  {
   "cell_type": "markdown",
   "id": "ab657876",
   "metadata": {},
   "source": [
    "An adapted notebook from Will pertaining to the extended Wigner's friend scenario.\n",
    "\n",
    "This notebook is intended to run a benchmark to show a local friendliness violation from an extended Wigner's Friend scenario running on a QPU. For our friends we will use a GHZ state of increasing size. First we run on a simulator, then a noisy simulator, then on a real QPU.\n",
    "\n",
    "Relevant References:\n",
    "- [1]: [\"A strong no-go theorem on the Wigner's friend paradox\"](https://arxiv.org/abs/1907.05607)\n",
    "\n",
    "- [2]: [\"A scalable tripartite Wigner's friend scenario\"](https://arxiv.org/abs/2109.02298)\n",
    "\n",
    "- [3]: [\"Thought experiments in a quantum computer\"](https://arxiv.org/abs/2209.06236)"
   ]
  },
  {
   "cell_type": "markdown",
   "id": "eabb03d4",
   "metadata": {},
   "source": [
    "## Imports"
   ]
  },
  {
   "cell_type": "code",
   "execution_count": 18,
   "id": "78cdb99c",
   "metadata": {},
   "outputs": [],
   "source": [
    "import numpy as np\n",
    "import itertools\n",
    "import random\n",
    "from enum import Enum\n",
    "from tqdm import tqdm\n",
    "\n",
    "import qiskit\n",
    "import qiskit.providers.aer.noise as noise\n",
    "from qiskit.providers import Backend\n",
    "from qiskit_aer.noise import NoiseModel"
   ]
  },
  {
   "cell_type": "markdown",
   "id": "dac3c05a",
   "metadata": {},
   "source": [
    "## Constants"
   ]
  },
  {
   "cell_type": "code",
   "execution_count": 19,
   "id": "9c7b9c4d",
   "metadata": {},
   "outputs": [],
   "source": [
    "BACKEND = qiskit.Aer.get_backend(\"aer_simulator\")\n",
    "\n",
    "# Here is an example of a depolarizing noise model. \n",
    "# We can uncomment this when we've figured out the other violation equations.\n",
    "# NOISE_MODEL = NoiseModel()\n",
    "# # Add depolarizing error to all single qubit u1, u2, u3 gates\n",
    "# error = noise.depolarizing_error(0.02, 1)\n",
    "# NOISE_MODEL.add_all_qubit_quantum_error(error, ['u1', 'u2', 'u3'])\n",
    "\n",
    "# Create an empty noise model\n",
    "NOISE_MODEL = None\n",
    "\n",
    "SHOTS = 10_000"
   ]
  },
  {
   "cell_type": "code",
   "execution_count": 20,
   "id": "00ba75d0",
   "metadata": {},
   "outputs": [],
   "source": [
    "# Settings for extended Wigner's friend scenario.\n",
    "class Setting(Enum):\n",
    "    PEEK = 1\n",
    "    REVERSE_1 = 2\n",
    "    REVERSE_2 = 3\n",
    "PEEK = Setting.PEEK.value\n",
    "REVERSE_1 = Setting.REVERSE_1.value\n",
    "REVERSE_2 = Setting.REVERSE_2.value\n",
    "SETTINGS = [PEEK, REVERSE_1, REVERSE_2]"
   ]
  },
  {
   "cell_type": "code",
   "execution_count": 21,
   "id": "a9f7caba",
   "metadata": {},
   "outputs": [],
   "source": [
    "# Observers for scenario are Alice and Bob.\n",
    "class Observer(Enum):\n",
    "    ALICE = 0\n",
    "    BOB = 1\n",
    "ALICE = Observer.ALICE.value\n",
    "BOB = Observer.BOB.value\n",
    "OBSERVERS = [ALICE, BOB]"
   ]
  },
  {
   "cell_type": "code",
   "execution_count": 22,
   "id": "d46d69df",
   "metadata": {},
   "outputs": [],
   "source": [
    "# Size of the bipartite quantum system.\n",
    "SYS_SIZE = 2\n",
    "\n",
    "# Size of the systems held by the \"friends\" (Charlie and Debbie).\n",
    "CHARLIE_SIZE = 1\n",
    "DEBBIE_SIZE = 1\n",
    "\n",
    "# Two output bits for Alice and Bob.\n",
    "MEAS_SIZE = 2\n",
    "\n",
    "# Size of entire circuit\n",
    "CIRCUIT_SIZE = SYS_SIZE + CHARLIE_SIZE + DEBBIE_SIZE\n",
    "\n",
    "# Angles and beta term used for Alice and Bob measurement operators from arXiv:1907.05607.\n",
    "# Note that despite the fact that degrees are used, we need to convert this to radians.\n",
    "ANGLES = {PEEK: np.deg2rad(168), REVERSE_1: np.deg2rad(0), REVERSE_2: np.deg2rad(118)}\n",
    "BETA = np.deg2rad(175)"
   ]
  },
  {
   "cell_type": "markdown",
   "id": "ba065ec4",
   "metadata": {},
   "source": [
    "## Expectation values"
   ]
  },
  {
   "cell_type": "code",
   "execution_count": 23,
   "id": "72b2dbbb",
   "metadata": {},
   "outputs": [],
   "source": [
    "def single_expect(observer: Observer, setting: Setting, results: dict):\n",
    "    \"\"\"Compute single expectation values for either Alice or Bob.\"\"\"\n",
    "    if observer == ALICE:\n",
    "        ret = 0\n",
    "        for settings in results.keys():\n",
    "            if settings[ALICE] == setting:\n",
    "                probs = results[settings]\n",
    "                # <A> = P(00) + P(01) - P(10) - P(11)\n",
    "                ret += (\n",
    "                    probs.get(\"00\", 0)\n",
    "                    + probs.get(\"01\", 0)\n",
    "                    - probs.get(\"10\", 0)\n",
    "                    - probs.get(\"11\", 0)\n",
    "                )\n",
    "        return ret / len(SETTINGS)\n",
    "    else:\n",
    "        ret = 0\n",
    "        for settings in results.keys():\n",
    "            if settings[BOB] == setting:\n",
    "                probs = results[settings]\n",
    "                # <B> = P(00) - P(01) + P(10) - P(11)\n",
    "                ret += (\n",
    "                    probs.get(\"00\", 0)\n",
    "                    - probs.get(\"01\", 0)\n",
    "                    + probs.get(\"10\", 0)\n",
    "                    - probs.get(\"11\", 0)\n",
    "                )\n",
    "        return ret / len(SETTINGS)"
   ]
  },
  {
   "cell_type": "code",
   "execution_count": 24,
   "id": "b0b4f78e",
   "metadata": {},
   "outputs": [],
   "source": [
    "def double_expect(settings: list[Setting], results: dict) -> float:\n",
    "    \"\"\"Expectation value of product of two operators.\"\"\"\n",
    "    probs = results[settings]\n",
    "    # <AB> = P(00) - P(01) - P(10) + P(11)\n",
    "    return (\n",
    "        probs.get(\"00\", 0) \n",
    "        - probs.get(\"01\", 0) \n",
    "        - probs.get(\"10\", 0) \n",
    "        + probs.get(\"11\", 0)\n",
    "    )    "
   ]
  },
  {
   "cell_type": "markdown",
   "id": "e2644123",
   "metadata": {},
   "source": [
    "## Consider all experimental settings"
   ]
  },
  {
   "cell_type": "code",
   "execution_count": 25,
   "id": "50259fc9",
   "metadata": {},
   "outputs": [],
   "source": [
    "def generate_all_experiments(\n",
    "    backend: Backend,\n",
    "    noise_model: NoiseModel,\n",
    "    shots: float,\n",
    "    angles: list[float],\n",
    "    beta: float\n",
    ") -> dict[tuple[Observer, Observer], list[float]]:\n",
    "    \"\"\"Generate probabilitites for all combinations of experimental settings.\"\"\"\n",
    "    all_experiment_combos = list(itertools.product(SETTINGS, repeat=2))\n",
    "\n",
    "    results = {}\n",
    "    for alice, bob in all_experiment_combos:\n",
    "        ewfs_circuit = ewfs(alice, bob, angles, beta)\n",
    "\n",
    "        job = qiskit.execute(\n",
    "            experiments=ewfs_circuit,\n",
    "            backend=backend,\n",
    "            noise_model=noise_model,\n",
    "            basis_gates=noise_model.basis_gates if noise_model is not None else None,\n",
    "            shots=shots,\n",
    "        )\n",
    "        counts = job.result().get_counts()\n",
    "        \n",
    "        # Convert counts to probabilities.\n",
    "        total_shots = sum(counts.values())\n",
    "        probabilities = {key: value / total_shots for key, value in counts.items()}\n",
    "\n",
    "        results[(alice, bob)] = probabilities\n",
    "    return results"
   ]
  },
  {
   "cell_type": "markdown",
   "id": "c90db58d",
   "metadata": {},
   "source": [
    "## State preparation"
   ]
  },
  {
   "cell_type": "code",
   "execution_count": 26,
   "id": "8d9e9065",
   "metadata": {},
   "outputs": [],
   "source": [
    "def prepare_bipartite_system() -> qiskit.QuantumCircuit:\n",
    "    \"\"\"Generates the state: 1/sqrt(2) * (|01> - |10>)\"\"\"\n",
    "    qc = qiskit.QuantumCircuit(2)\n",
    "    qc.x(0)\n",
    "    qc.x(1)\n",
    "    qc.h(0)\n",
    "    qc.cx(0, 1)   \n",
    " \n",
    "    return qc"
   ]
  },
  {
   "cell_type": "markdown",
   "id": "4d0e77a6",
   "metadata": {},
   "source": [
    "Confirm that the state preparation circuit generates $|\\psi\\rangle = \\frac{1}{\\sqrt{2}}\\left(|01\\rangle - 10\\rangle\\right)$:"
   ]
  },
  {
   "cell_type": "code",
   "execution_count": 27,
   "id": "43978212",
   "metadata": {},
   "outputs": [
    {
     "name": "stdout",
     "output_type": "stream",
     "text": [
      "{'01': 0.5, '10': 0.5}\n"
     ]
    }
   ],
   "source": [
    "circuit = prepare_bipartite_system()\n",
    "print(qiskit.Aer.get_backend(\"statevector_simulator\").run(circuit).result().get_counts())"
   ]
  },
  {
   "cell_type": "markdown",
   "id": "78e5d102",
   "metadata": {},
   "source": [
    "## CNOT ladder circuit"
   ]
  },
  {
   "cell_type": "code",
   "execution_count": 28,
   "id": "8c786b34",
   "metadata": {},
   "outputs": [],
   "source": [
    "def cnot_ladder(system_qubit: int, friend_qubit: int, friend_size: int) -> qiskit.QuantumCircuit:\n",
    "    \"\"\"CNOT ladder circuit (GHZ without Hadamard).\"\"\"\n",
    "    circuit = qiskit.QuantumCircuit(CIRCUIT_SIZE)\n",
    "    for i in range(friend_size):\n",
    "        circuit.cx(system_qubit, friend_qubit + i)\n",
    "    return circuit"
   ]
  },
  {
   "cell_type": "code",
   "execution_count": 29,
   "id": "9189c6f6",
   "metadata": {
    "scrolled": true
   },
   "outputs": [
    {
     "data": {
      "image/png": "[encoded data removed]",
      "text/plain": [
       "<Figure size 203.885x367.889 with 1 Axes>"
      ]
     },
     "execution_count": 29,
     "metadata": {},
     "output_type": "execute_result"
    }
   ],
   "source": [
    "cnot_ladder(ALICE, SYS_SIZE, CHARLIE_SIZE).draw(\"mpl\")"
   ]
  },
  {
   "cell_type": "markdown",
   "id": "64692f24",
   "metadata": {},
   "source": [
    "## Circuit for extended Wigner's friend scenario"
   ]
  },
  {
   "cell_type": "code",
   "execution_count": 30,
   "id": "f5a4f1a1",
   "metadata": {},
   "outputs": [],
   "source": [
    "def ewfs(alice_setting: Setting, bob_setting: Setting, angles: list[float], beta: float) -> qiskit.QuantumCircuit:\n",
    "    \"\"\"Generate the circuit for extended Wigner's friend scenario.\"\"\"    \n",
    "    # Observable circuits\n",
    "    charlie_obs = cnot_ladder(ALICE, SYS_SIZE, CHARLIE_SIZE)\n",
    "    debbie_obs = cnot_ladder(BOB, SYS_SIZE + CHARLIE_SIZE, DEBBIE_SIZE)\n",
    "        \n",
    "    # Initialize circuit that defines the extended scenario.\n",
    "    qc = qiskit.QuantumCircuit(CIRCUIT_SIZE, MEAS_SIZE)\n",
    "    \n",
    "    # State prep\n",
    "    qc = qc.compose(prepare_bipartite_system())    \n",
    "\n",
    "    # Apply observable circuits for Charlie and Debbie.\n",
    "    qc = qc.compose(charlie_obs)\n",
    "    qc = qc.compose(debbie_obs)   \n",
    "    \n",
    "    # 0: Charlie system; 2: Charlie; [0]: Alice\n",
    "    if alice_setting is PEEK:\n",
    "        # Ask Charlie for the outcome. We pick a random qubit from Charlie's register.\n",
    "        random_offset = random.randint(0, CHARLIE_SIZE-1)\n",
    "        qc.measure(SYS_SIZE + random_offset, ALICE)\n",
    "    else:\n",
    "        # Undo the measurement\n",
    "        qc = qc.compose(charlie_obs)\n",
    "        \n",
    "        # For either REVERSE_1 or REVERSE_2, apply the appropriate angle rotations.\n",
    "        qc.rx(np.pi/2, ALICE)\n",
    "        qc.rz(angles[alice_setting] - 1.5*np.pi, ALICE)\n",
    "        \n",
    "        qc.measure(ALICE, ALICE)\n",
    "    \n",
    "    # 1: Debbie system; 3: Debbie; [1]: Bob\n",
    "    if bob_setting is PEEK:\n",
    "        # Ask Debbie for the outcome. We pick a random qubit from Debbie's register.\n",
    "        random_offset = random.randint(0, DEBBIE_SIZE-1)\n",
    "        qc.measure(SYS_SIZE + CHARLIE_SIZE + random_offset, BOB)\n",
    "    else:\n",
    "        # Undo the measurement\n",
    "        qc = qc.compose(debbie_obs)    \n",
    "\n",
    "        # For either REVERSE_1 or REVERSE_2, apply the appropriate angle rotations.    \n",
    "        qc.rx(np.pi/2, BOB)\n",
    "        qc.rz((beta - angles[bob_setting]) - 1.5*np.pi, BOB)\n",
    "        \n",
    "        qc.measure(BOB, BOB)    \n",
    "        \n",
    "    return qc"
   ]
  },
  {
   "cell_type": "code",
   "execution_count": 31,
   "id": "34e49306",
   "metadata": {
    "scrolled": true
   },
   "outputs": [
    {
     "data": {
      "image/png": "[encoded data removed]",
      "text/plain": [
       "<Figure size 956.385x451.5 with 1 Axes>"
      ]
     },
     "execution_count": 31,
     "metadata": {},
     "output_type": "execute_result"
    }
   ],
   "source": [
    "qc = ewfs(PEEK, REVERSE_1, ANGLES, BETA)\n",
    "qc.draw(\"mpl\")"
   ]
  },
  {
   "cell_type": "markdown",
   "id": "162be586",
   "metadata": {},
   "source": [
    "## Inequalities"
   ]
  },
  {
   "cell_type": "code",
   "execution_count": 33,
   "id": "0b9f0633",
   "metadata": {},
   "outputs": [],
   "source": [
    "def compute_inequalities(results, verbose=False):\n",
    "    A1 = single_expect(ALICE, PEEK, results)\n",
    "    B1 = single_expect(BOB, PEEK, results)\n",
    "\n",
    "    A2 = single_expect(ALICE, REVERSE_1, results)\n",
    "    B2 = single_expect(BOB, REVERSE_1, results)\n",
    "\n",
    "    A3 = single_expect(ALICE, REVERSE_2, results)\n",
    "    B3 = single_expect(BOB, REVERSE_2, results)\n",
    "\n",
    "    A1B1 = double_expect((PEEK, PEEK), results)\n",
    "    A1B2 = double_expect((PEEK, REVERSE_1), results)\n",
    "    A1B3 = double_expect((PEEK, REVERSE_2), results)\n",
    "\n",
    "    A2B1 = double_expect((REVERSE_1, PEEK), results)\n",
    "    A2B2 = double_expect((REVERSE_1, REVERSE_1), results)\n",
    "    A2B3 = double_expect((REVERSE_1, REVERSE_2), results)\n",
    "\n",
    "    A3B1 = double_expect((REVERSE_2, PEEK), results)\n",
    "    A3B2 = double_expect((REVERSE_2, REVERSE_1), results)\n",
    "    A3B3 = double_expect((REVERSE_2, REVERSE_2), results)\n",
    "    \n",
    "    # Local-friendliness inequalities:\n",
    "    # Eq. (13) from [1].\n",
    "    lf_1 = -A1 - A2 - B1 - B2 - A1B1 - 2*A1B2 - 2*A2B1 + 2*A2B2 - A2B3 - A3B2 - A3B3 - 6\n",
    "    # Eq. (14) from [1].\n",
    "    lf_2 = -A1 - A2 - A3 - B1 - A1B1 - A2B1 - A3B1 - 2*A1B2 + A2B2 + A3B2 - A2B3 + A3B3 - 5\n",
    "    # Eq. (15) from [1].\n",
    "    lf_3 = -A1 + A2 + B1 - B2 + A1B1 - A1B2 - A1B3 - A2B1 + A2B2 - A2B3 - A3B1 - A3B2 - 4 \n",
    "    # Eq. (16) from [1].\n",
    "    lf_4 = -A2 - A3 - B2 - B3 - A1B2 + A1B3 - A2B1 - A2B2 - A2B3 + A3B1 - A3B2 - A3B3 - 4\n",
    "\n",
    "    # Brukner inequalities:\n",
    "    # Eq. (17) from [1].\n",
    "    brukner = A1B1 - A1B3 - A2B1 - A2B3 - 2\n",
    "    # Eq. (18) from [1].\n",
    "    semi_brukner = -A1B2 + A1B3 - A3B2 - A3B3 - 2\n",
    "\n",
    "    # Positivity inequalities:\n",
    "    # Eq. (19) from [1].\n",
    "    pos_1 = 1 + A1 + B1 + A1B1\n",
    "    # Eq. (20) from [1].\n",
    "    pos_2 = 1 + A1 + B2 + A1B2\n",
    "    # Eq. (21) from [1].\n",
    "    pos_3 = 1 + A2 + B2 + A2B2\n",
    "\n",
    "    # Bell non-LF \n",
    "    # Eq. (22) from [1].\n",
    "    bell_non_lf = A2B2 - A2B3 - A3B2 - A3B3 - 2\n",
    "    \n",
    "    if verbose:\n",
    "        print(\"******Inequalities******\")\n",
    "        print(f\"{semi_brukner=} -- is violated: {semi_brukner > 0}\")\n",
    "        print(f\"{brukner=} -- is violated: {brukner > 0}\")\n",
    "        print(f\"{lf_1=} -- is violated: {lf_1 > 0}\")\n",
    "        print(f\"{lf_2=} -- is violated: {lf_2 > 0}\")\n",
    "        print(f\"{lf_3=} -- is_violated: {lf_3 > 0}\")\n",
    "        print(f\"{lf_4=} -- is_violated: {lf_4 > 0}\")\n",
    "        print(f\"{pos_1=} -- is_violated: {pos_1 < 0}\")\n",
    "        print(f\"{pos_2=} -- is_violated: {pos_2 < 0}\")\n",
    "        print(f\"{pos_3=} -- is_violated: {pos_3 < 0}\")\n",
    "        print(f\"{bell_non_lf=} -- is_violated: {bell_non_lf > 0}\")\n",
    "        print(\"**************************\")    \n",
    "\n",
    "    any_violated = semi_brukner > 0 or brukner > 0 or lf_1 > 0 or lf_2 > 0 or \\\n",
    "    lf_3 > 0 or lf_4 > 0 or pos_1 < 0 or pos_2 < 0 or pos_3 < 0 or bell_non_lf > 0\n",
    "    \n",
    "    # These ones are the stubborn violations that refuse to be violated.\n",
    "    # stubborn_violated = brukner > 0 or lf_1 > 0 or lf_2 > 0 or lf_3 > 0 or pos_2 < 0 or bell_non_lf > 0\n",
    "        \n",
    "    return any_violated"
   ]
  },
  {
   "cell_type": "code",
   "execution_count": 41,
   "id": "29b63997",
   "metadata": {},
   "outputs": [
    {
     "name": "stdout",
     "output_type": "stream",
     "text": [
      "******Inequalities******\n",
      "semi_brukner=0.019000000000000128 -- is violated: True\n",
      "brukner=-2.0148 -- is violated: False\n",
      "lf_1=-3.9868 -- is violated: False\n",
      "lf_2=-5.9844 -- is violated: False\n",
      "lf_3=-4.0148 -- is_violated: False\n",
      "lf_4=0.014800000000000146 -- is_violated: True\n",
      "pos_1=-0.003866666666666574 -- is_violated: True\n",
      "pos_2=0.9951999999999999 -- is_violated: False\n",
      "pos_3=-0.0009333333333333416 -- is_violated: True\n",
      "bell_non_lf=0.0 -- is_violated: False\n",
      "**************************\n"
     ]
    },
    {
     "data": {
      "text/plain": [
       "True"
      ]
     },
     "execution_count": 41,
     "metadata": {},
     "output_type": "execute_result"
    }
   ],
   "source": [
    "results = generate_all_experiments(backend=BACKEND, noise_model=NOISE_MODEL, shots=SHOTS, angles=ANGLES, beta=BETA)\n",
    "compute_inequalities(results, verbose=True)"
   ]
  },
  {
   "cell_type": "markdown",
   "id": "e5a7f2b8",
   "metadata": {},
   "source": [
    "## Experiment: Cycle angles"
   ]
  },
  {
   "cell_type": "code",
   "execution_count": null,
   "id": "df5dccdd",
   "metadata": {},
   "outputs": [],
   "source": [
    "for angle_1 in np.linspace(0, 360, num=10):\n",
    "    for angle_2 in tqdm(np.linspace(0, 360, num=10)):\n",
    "        for angle_3 in np.linspace(0, 360, num=10):\n",
    "            for beta in np.linspace(0, 360, num=10):\n",
    "                \n",
    "                angles = {PEEK: np.deg2rad(angle_1), REVERSE_1: np.deg2rad(angle_2), REVERSE_2: np.deg2rad(angle_3)}\n",
    "                beta = np.deg2rad(beta)                \n",
    "                results = generate_all_experiments(\n",
    "                    backend=BACKEND, noise_model=NOISE_MODEL, shots=SHOTS, angles=angles, beta=beta\n",
    "                )\n",
    "                if compute_inequalities(results):\n",
    "                    print(\"Found!\")\n",
    "                    print(f\"{angle_1=} -- {angle_2=} -- {angle_3=} -- {beta=}\")                "
   ]
  },
  {
   "cell_type": "code",
   "execution_count": null,
   "id": "92aee656",
   "metadata": {},
   "outputs": [],
   "source": []
  }
 ],
 "metadata": {
  "kernelspec": {
   "display_name": "wf",
   "language": "python",
   "name": "wf"
  },
  "language_info": {
   "codemirror_mode": {
    "name": "ipython",
    "version": 3
   },
   "file_extension": ".py",
   "mimetype": "text/x-python",
   "name": "python",
   "nbconvert_exporter": "python",
   "pygments_lexer": "ipython3",
   "version": "3.11.0"
  }
 },
 "nbformat": 4,
 "nbformat_minor": 5
}
