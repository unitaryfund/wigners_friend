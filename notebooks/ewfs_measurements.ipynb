{
 "cells": [
  {
   "cell_type": "markdown",
   "id": "92db2b58",
   "metadata": {},
   "source": [
    "# Extended Wigner's friend scenario"
   ]
  },
  {
   "cell_type": "markdown",
   "id": "ab657876",
   "metadata": {},
   "source": [
    "An adapted notebook from Will pertaining to the extended Wigner's friend scenario.\n",
    "\n",
    "This notebook is intended to run a benchmark to show a local friendliness violation from an extended Wigner's Friend scenario running on a QPU. For our friends we will use a GHZ state of increasing size. First we run on a simulator, then a noisy simulator, then on a real QPU.\n",
    "\n",
    "Relevant References:\n",
    "- [1]: [\"A strong no-go theorem on the Wigner's friend paradox\"](https://arxiv.org/abs/1907.05607)\n",
    "\n",
    "- [2]: [\"A scalable tripartite Wigner's friend scenario\"](https://arxiv.org/abs/2109.02298)\n",
    "\n",
    "- [3]: [\"Thought experiments in a quantum computer\"](https://arxiv.org/abs/2209.06236)"
   ]
  },
  {
   "cell_type": "markdown",
   "id": "eabb03d4",
   "metadata": {},
   "source": [
    "## Imports"
   ]
  },
  {
   "cell_type": "code",
   "execution_count": 1,
   "id": "78cdb99c",
   "metadata": {},
   "outputs": [],
   "source": [
    "import numpy as np\n",
    "import itertools\n",
    "import random\n",
    "from enum import Enum\n",
    "\n",
    "import qiskit\n",
    "import qiskit.providers.aer.noise as noise\n",
    "from qiskit import QuantumCircuit, QuantumRegister, ClassicalRegister\n",
    "from qiskit.providers import Backend\n",
    "from qiskit_aer.noise import NoiseModel"
   ]
  },
  {
   "cell_type": "markdown",
   "id": "dac3c05a",
   "metadata": {},
   "source": [
    "## Constants"
   ]
  },
  {
   "cell_type": "code",
   "execution_count": 2,
   "id": "117ab5f8",
   "metadata": {},
   "outputs": [],
   "source": [
    "BACKEND = qiskit.Aer.get_backend(\"aer_simulator\")\n",
    "\n",
    "# Create an empty noise model\n",
    "NOISE_MODEL = None\n",
    "\n",
    "SHOTS = 100_000"
   ]
  },
  {
   "cell_type": "code",
   "execution_count": 3,
   "id": "00ba75d0",
   "metadata": {},
   "outputs": [],
   "source": [
    "# Settings for extended Wigner's friend scenario.\n",
    "class Setting(Enum):\n",
    "    PEEK = 1\n",
    "    REVERSE_1 = 2\n",
    "    REVERSE_2 = 3\n",
    "PEEK = Setting.PEEK.value\n",
    "REVERSE_1 = Setting.REVERSE_1.value\n",
    "REVERSE_2 = Setting.REVERSE_2.value\n",
    "SETTINGS = [PEEK, REVERSE_1, REVERSE_2]"
   ]
  },
  {
   "cell_type": "code",
   "execution_count": 11,
   "id": "a9f7caba",
   "metadata": {},
   "outputs": [],
   "source": [
    "# Observers for scenario are Alice and Bob.\n",
    "class Observer(Enum):\n",
    "    ALICE = 0\n",
    "    BOB = 1\n",
    "ALICE = Observer.ALICE.value\n",
    "BOB = Observer.BOB.value\n",
    "OBSERVERS = [ALICE, BOB]"
   ]
  },
  {
   "cell_type": "code",
   "execution_count": 234,
   "id": "d46d69df",
   "metadata": {},
   "outputs": [],
   "source": [
    "# Alice and Bob share a bipartite system of equal size.\n",
    "ALICE_SIZE = 1\n",
    "BOB_SIZE = 1\n",
    "\n",
    "# Size of the systems held by the \"friends\" (Charlie and Debbie).\n",
    "CHARLIE_SIZE = 3\n",
    "DEBBIE_SIZE = 3\n",
    "\n",
    "# Size of the bipartite quantum system.\n",
    "SYS_SIZE = ALICE_SIZE + BOB_SIZE\n",
    "\n",
    "# Two output bits for Alice and Bob.\n",
    "MEAS_SIZE = 2\n",
    "\n",
    "# Size of entire circuit\n",
    "CIRCUIT_SIZE = SYS_SIZE + CHARLIE_SIZE + DEBBIE_SIZE\n",
    "\n",
    "# Ranges for Charlie and Debbie's qubits depending on the size of their systems:\n",
    "CHARLIE_QUBITS = range(SYS_SIZE, (SYS_SIZE + CHARLIE_SIZE))\n",
    "DEBBIE_QUBITS = range(SYS_SIZE + CHARLIE_SIZE, SYS_SIZE + (CHARLIE_SIZE + DEBBIE_SIZE))\n",
    "\n",
    "# Angles and beta term used for Alice and Bob measurement operators from arXiv:1907.05607.\n",
    "# Note that despite the fact that degrees are used, we need to convert this to radians.\n",
    "ANGLES = {PEEK: np.deg2rad(168), REVERSE_1: np.deg2rad(0), REVERSE_2: np.deg2rad(118)}\n",
    "BETA = np.deg2rad(175)"
   ]
  },
  {
   "cell_type": "markdown",
   "id": "ba065ec4",
   "metadata": {},
   "source": [
    "## Expectation values"
   ]
  },
  {
   "cell_type": "code",
   "execution_count": 202,
   "id": "507639bd",
   "metadata": {},
   "outputs": [],
   "source": [
    "def single_expect(observer: Observer, setting: Setting, results: dict):\n",
    "    \"\"\"Compute single expectation values for either Alice or Bob.\"\"\"\n",
    "    if observer is ALICE:\n",
    "        ret = 0\n",
    "        for settings in results.keys():\n",
    "            if settings[ALICE] is setting:\n",
    "                if setting == PEEK:\n",
    "                    zero_la = '0' * CHARLIE_SIZE\n",
    "                    one_la = '1' * CHARLIE_SIZE\n",
    "                    zero_lb = '0' * DEBBIE_SIZE\n",
    "                    one_lb = '1' * DEBBIE_SIZE\n",
    "                    probs = results[settings]\n",
    "                    # <A> = P(00) + P(01) - P(10) - P(11)\n",
    "                    ret += (\n",
    "                        probs.get(zero_la + \"0\", 0)\n",
    "                        + probs.get(zero_la + \"1\", 0)\n",
    "                        - probs.get(one_la + \"0\", 0)\n",
    "                        - probs.get(one_la + \"1\", 0)\n",
    "                        + probs.get(zero_la + zero_lb, 0)\n",
    "                        + probs.get(zero_la + one_lb, 0)\n",
    "                        - probs.get(one_la + zero_lb, 0)\n",
    "                        - probs.get(one_la + one_lb, 0)\n",
    "                    )\n",
    "                else:\n",
    "                    zero_lb = '0' * DEBBIE_SIZE\n",
    "                    one_lb = '1' * DEBBIE_SIZE\n",
    "                    probs = results[settings]\n",
    "                    # <A> = P(00) + P(01) - P(10) - P(11)\n",
    "                    ret += (\n",
    "                        probs.get(\"00\", 0)\n",
    "                        + probs.get(\"01\", 0)\n",
    "                        - probs.get(\"10\", 0)\n",
    "                        - probs.get(\"11\", 0)\n",
    "                        + probs.get(\"0\" + zero_lb, 0)\n",
    "                        + probs.get(\"0\" + one_lb, 0)\n",
    "                        - probs.get(\"1\" + zero_lb, 0)\n",
    "                        - probs.get(\"1\" + one_lb, 0)\n",
    "                    )\n",
    "\n",
    "        return ret / len(SETTINGS)\n",
    "    else:\n",
    "        ret = 0\n",
    "        for settings in results.keys():\n",
    "            if settings[BOB] is setting:\n",
    "                if setting == PEEK:\n",
    "                    zero_la = '0' * CHARLIE_SIZE\n",
    "                    one_la = '1' * CHARLIE_SIZE\n",
    "                    zero_lb = '0' * DEBBIE_SIZE\n",
    "                    one_lb = '1' * DEBBIE_SIZE\n",
    "                    probs = results[settings]\n",
    "                    # <A> = P(00) - P(01) + P(10) - P(11)\n",
    "                    ret += (\n",
    "                        probs.get(\"0\" + zero_lb, 0)\n",
    "                        - probs.get(\"0\" + one_lb, 0)\n",
    "                        + probs.get(\"1\" + zero_lb , 0)\n",
    "                        - probs.get(\"1\" + one_lb, 0)\n",
    "                        + probs.get(zero_la + zero_lb, 0)\n",
    "                        - probs.get(zero_la + one_lb, 0)\n",
    "                        + probs.get(one_la + zero_lb, 0)\n",
    "                        - probs.get(one_la + one_lb, 0)\n",
    "                    )\n",
    "                else:\n",
    "                    zero_la = '0' * CHARLIE_SIZE\n",
    "                    one_la = '1' * CHARLIE_SIZE\n",
    "                    probs = results[settings]\n",
    "                    # <A> = P(00) - P(01) + P(10) - P(11)\n",
    "                    ret += (\n",
    "                        probs.get(\"00\", 0)\n",
    "                        - probs.get(\"01\", 0)\n",
    "                        + probs.get(\"10\", 0)\n",
    "                        - probs.get(\"11\", 0)\n",
    "                        + probs.get(zero_la + \"0\", 0)\n",
    "                        - probs.get(zero_la + \"1\", 0)\n",
    "                        + probs.get(one_la + \"0\", 0)\n",
    "                        - probs.get(one_la + \"1\", 0)\n",
    "                    )\n",
    "        return ret / len(SETTINGS)"
   ]
  },
  {
   "cell_type": "code",
   "execution_count": 229,
   "id": "b0b4f78e",
   "metadata": {},
   "outputs": [],
   "source": [
    "def double_expect(settings: list[Setting], results: dict) -> float:\n",
    "    \"\"\"Expectation value of product of two operators.\"\"\"\n",
    "    probs = results[settings]\n",
    "    if settings == (PEEK, REVERSE_1) or settings == (PEEK, REVERSE_2):\n",
    "        # <AB> = P(00, 0) - P(00, 1) - P(11, 0) + P(11, 1) for logical qubit of size 2 of ALICE\n",
    "        zero_l = '0' * CHARLIE_SIZE\n",
    "        one_l = '1' * CHARLIE_SIZE\n",
    "        return (\n",
    "            probs.get(zero_l + \"0\", 0) \n",
    "            - probs.get(zero_l + \"1\", 0) \n",
    "            - probs.get(one_l + \"0\", 0) \n",
    "            + probs.get(one_l + \"1\", 0)\n",
    "        )    \n",
    "    elif settings == (REVERSE_1, PEEK) or settings == (REVERSE_2, PEEK):\n",
    "        # <AB> = P(0,00) - P(0, 11) - P(1, 00) + P(1, 11) for logical qubit of size 2 of BOB\n",
    "        zero_l = '0' * DEBBIE_SIZE\n",
    "        one_l = '1' * DEBBIE_SIZE\n",
    "        return (\n",
    "            probs.get(\"0\" + zero_l, 0) \n",
    "            - probs.get(\"0\" + one_l, 0) \n",
    "            - probs.get(\"1\" + zero_l, 0) \n",
    "            + probs.get(\"1\" + one_l, 0)\n",
    "        ) \n",
    "    elif settings == (PEEK, PEEK):\n",
    "        # <AB> = P(00, 00) - P(00, 11) - P(11, 00) + P(11, 11) for logical qubit of size 2 of ALICE and BOB\n",
    "        zero_la = '0' * CHARLIE_SIZE\n",
    "        one_la = '1' * CHARLIE_SIZE\n",
    "        zero_lb = '0' * DEBBIE_SIZE\n",
    "        one_lb = '1' * DEBBIE_SIZE\n",
    "        return (\n",
    "            probs.get(zero_la + zero_lb, 0) \n",
    "            - probs.get(zero_la + one_lb, 0) \n",
    "            - probs.get(one_la + zero_lb, 0) \n",
    "            + probs.get(one_la + one_lb, 0)\n",
    "        ) \n",
    "    else:\n",
    "        # <AB> = P(0, 0) - P(0, 1) - P(1, 0) + P(1, 1)\n",
    "        return (\n",
    "            probs.get(\"00\", 0) \n",
    "            - probs.get(\"01\", 0) \n",
    "            - probs.get(\"10\", 0) \n",
    "            + probs.get(\"11\", 0)\n",
    "        ) \n"
   ]
  },
  {
   "cell_type": "markdown",
   "id": "e2644123",
   "metadata": {},
   "source": [
    "## Consider all experimental settings"
   ]
  },
  {
   "cell_type": "code",
   "execution_count": 186,
   "id": "50259fc9",
   "metadata": {},
   "outputs": [],
   "source": [
    "def generate_all_experiments(\n",
    "    backend: Backend,\n",
    "    noise_model: NoiseModel,\n",
    "    shots: float,\n",
    "    angles: list[float],\n",
    "    beta: float\n",
    ") -> dict[tuple[Observer, Observer], list[float]]:\n",
    "    \"\"\"Generate probabilitites for all combinations of experimental settings.\"\"\"\n",
    "    all_experiment_combos = list(itertools.product(SETTINGS, repeat=2))\n",
    "    \n",
    "    results = {}\n",
    "    for alice, bob in all_experiment_combos:\n",
    "        ewfs_circuit = ewfs(alice, bob, angles, beta)\n",
    "\n",
    "        job = qiskit.execute(\n",
    "            experiments=ewfs_circuit,\n",
    "            backend=backend,\n",
    "            noise_model=noise_model,\n",
    "            basis_gates=noise_model.basis_gates if noise_model is not None else None,\n",
    "            shots=shots,\n",
    "        )\n",
    "        counts = job.result().get_counts()\n",
    "        \n",
    "        # Convert counts to probabilities.\n",
    "        probabilities = {key[::-1]: value / shots for key, value in counts.items()} #farrokh: I think that for some reason qiskit reverses the order of the bitstring key, so I reverse it again key[::-1]\n",
    "\n",
    "        results[(alice, bob)] = probabilities\n",
    "    return results"
   ]
  },
  {
   "cell_type": "markdown",
   "id": "c90db58d",
   "metadata": {},
   "source": [
    "## State preparation"
   ]
  },
  {
   "cell_type": "code",
   "execution_count": 172,
   "id": "8d9e9065",
   "metadata": {},
   "outputs": [],
   "source": [
    "def prepare_bipartite_system(qc: QuantumCircuit):\n",
    "    \"\"\"Generates the state: 1/sqrt(2) * (|01> - |10>)\"\"\"\n",
    "    qc.x(ALICE)\n",
    "    qc.x(BOB)\n",
    "    qc.h(ALICE)\n",
    "    qc.cx(ALICE, BOB)"
   ]
  },
  {
   "cell_type": "markdown",
   "id": "4d0e77a6",
   "metadata": {},
   "source": [
    "Confirm that the state preparation circuit generates $|\\psi\\rangle = \\frac{1}{\\sqrt{2}}\\left(|01\\rangle - 10\\rangle\\right)$:"
   ]
  },
  {
   "cell_type": "code",
   "execution_count": 173,
   "id": "43978212",
   "metadata": {},
   "outputs": [
    {
     "name": "stdout",
     "output_type": "stream",
     "text": [
      "{'01': 0.5, '10': 0.5}\n"
     ]
    }
   ],
   "source": [
    "circuit = QuantumCircuit(2)\n",
    "prepare_bipartite_system(circuit)\n",
    "print(qiskit.Aer.get_backend(\"statevector_simulator\").run(circuit).result().get_counts())"
   ]
  },
  {
   "cell_type": "markdown",
   "id": "78e5d102",
   "metadata": {},
   "source": [
    "## CNOT ladder circuit"
   ]
  },
  {
   "cell_type": "code",
   "execution_count": 174,
   "id": "8c786b34",
   "metadata": {},
   "outputs": [],
   "source": [
    "def cnot_ladder(qc: QuantumCircuit, observer: Observer, friend_qubit: int, friend_size: int, reverse: bool, internal_copy: bool):\n",
    "    \"\"\"CNOT ladder circuit (GHZ without Hadamard).\"\"\"\n",
    "    if internal_copy:\n",
    "        if reverse:\n",
    "            for i in range(friend_size-1):\n",
    "                qc.cx(friend_qubit + friend_size-2-i, friend_qubit+friend_size-1-i)\n",
    "            qc.cx(observer, friend_qubit)\n",
    "        else:\n",
    "            qc.cx(observer, friend_qubit)\n",
    "            for i in range(friend_size-1):\n",
    "                qc.cx(friend_qubit+i, friend_qubit + i + 1)\n",
    "    else:\n",
    "        if reverse:\n",
    "            for i in range(friend_size):\n",
    "                qc.cx(observer, friend_qubit+friend_size-1-i)\n",
    "        else:\n",
    "            for i in range(friend_size):\n",
    "                qc.cx(observer, friend_qubit + i)"
   ]
  },
  {
   "cell_type": "code",
   "execution_count": 187,
   "id": "026bfd20",
   "metadata": {},
   "outputs": [
    {
     "data": {
      "image/png": "[encoded data removed]",
      "text/plain": [
       "<Figure size 287.496x618.722 with 1 Axes>"
      ]
     },
     "execution_count": 187,
     "metadata": {},
     "output_type": "execute_result"
    }
   ],
   "source": [
    "circuit = QuantumCircuit(CIRCUIT_SIZE, MEAS_SIZE)\n",
    "cnot_ladder(circuit, ALICE, CHARLIE_QUBITS[0], CHARLIE_SIZE, reverse=False, internal_copy=True)\n",
    "circuit.draw(\"mpl\")"
   ]
  },
  {
   "cell_type": "markdown",
   "id": "64692f24",
   "metadata": {},
   "source": [
    "## Circuit for extended Wigner's friend scenario"
   ]
  },
  {
   "cell_type": "code",
   "execution_count": 176,
   "id": "f5a4f1a1",
   "metadata": {},
   "outputs": [],
   "source": [
    "def ewfs_rotation(qc: QuantumCircuit, qubit: int, angle: float):\n",
    "    qc.rz(-angle, qubit)\n",
    "    qc.h(qubit)\n",
    "    \n",
    "def apply_setting(qc: QuantumCircuit, observer: Observer, setting: Setting, angle: float, observer_creg: list[int] | int):\n",
    "    \"\"\"Apply either the PEEK or REVERSE_1/REVERSE_2 settings.\"\"\"\n",
    "    \n",
    "    # Alice is the friend of Charlie and Bob is the friend of Debbie.\n",
    "    friend_qubits = CHARLIE_QUBITS if observer is ALICE else DEBBIE_QUBITS\n",
    "    friend_size = CHARLIE_SIZE if observer is ALICE else DEBBIE_SIZE\n",
    "    \n",
    "    if setting is PEEK:\n",
    "        # The rotation gates should be applied to all qubits belonging to the friend.\n",
    "        #for friend_qubit in friend_qubits:\n",
    "        #    ewfs_rotation(qc, friend_qubit, angle)\n",
    "\n",
    "        # Ask friend for the outcome. We pick a random qubit from friend's register.\n",
    "        random_offset = random.randint(0, friend_size - 1)\n",
    "        qc.measure(friend_qubits, observer_creg)\n",
    "        #qc.measure(friend_qubits[0], observer)\n",
    "\n",
    "    elif setting in [REVERSE_1, REVERSE_2]:\n",
    "        cnot_ladder(qc, observer, friend_qubits[0], friend_size, reverse=True, internal_copy=True)\n",
    "\n",
    "        # For either REVERSE_1 or REVERSE_2, apply the appropriate angle rotations.\n",
    "        # Note that in this case, the rotation should occur on the observer's qubit.\n",
    "        if observer is ALICE:\n",
    "            qc.h(0)\n",
    "            qc.rz(ANGLES[1], 0)        \n",
    "\n",
    "        if observer is BOB:\n",
    "            qc.h(1)        \n",
    "            qc.rz((BETA - ANGLES[1]), 1)\n",
    "        ewfs_rotation(qc, observer, angle)            \n",
    "        qc.measure(observer, observer_creg)\n",
    "        \n",
    "def ewfs(alice_setting: Setting, bob_setting: Setting, angles: list[float], beta: float) -> QuantumCircuit:\n",
    "    \"\"\"Generate the circuit for extended Wigner's friend scenario.\"\"\"    \n",
    "    # Define quantum registers\n",
    "    alice, bob, charlie, debbie = [\n",
    "        QuantumRegister(size, name=name) \n",
    "        for size, name in zip([ALICE_SIZE, BOB_SIZE, CHARLIE_SIZE, DEBBIE_SIZE], \n",
    "                              [\"Alice\", \"Bob\", \"Charlie\", \"Debbie\"])\n",
    "    ]\n",
    "    if alice_setting == PEEK and bob_setting == PEEK:\n",
    "        measurement = ClassicalRegister(CHARLIE_SIZE + DEBBIE_SIZE, name=\"Measurement\")\n",
    "        alice_creg = list(range(CHARLIE_SIZE))\n",
    "        bob_creg = list(range(CHARLIE_SIZE, CHARLIE_SIZE + DEBBIE_SIZE))\n",
    "    elif (alice_setting == PEEK and bob_setting != PEEK):\n",
    "        measurement = ClassicalRegister(CHARLIE_SIZE + 1, name=\"Measurement\")\n",
    "        alice_creg = list(range(CHARLIE_SIZE))\n",
    "        bob_creg = CHARLIE_SIZE\n",
    "    elif (alice_setting != PEEK and bob_setting == PEEK):\n",
    "        measurement = ClassicalRegister(DEBBIE_SIZE + 1, name=\"Measurement\")\n",
    "        alice_creg = 0\n",
    "        bob_creg = list(range(1, CHARLIE_SIZE + 1))\n",
    "    else:\n",
    "        measurement = ClassicalRegister(MEAS_SIZE, name=\"Measurement\")\n",
    "        alice_creg = 0\n",
    "        bob_creg = 1\n",
    "        \n",
    "    \n",
    "    # Create the Quantum Circuit with the defined registers\n",
    "    qc = QuantumCircuit(alice, bob, charlie, debbie, measurement)\n",
    "    \n",
    "    # Prepare the bipartite quantum system\n",
    "    prepare_bipartite_system(qc)\n",
    "    qc.rz(-angles[1], 0)\n",
    "    qc.h(0)\n",
    "    \n",
    "    qc.rz(-(beta - angles[1]), 1)\n",
    "    qc.h(1)\n",
    "\n",
    "    # Apply the CNOT ladder for Alice-Charlie and Bob-Debbie\n",
    "    cnot_ladder(qc, ALICE, CHARLIE_QUBITS[0], CHARLIE_SIZE, reverse=False, internal_copy=True)\n",
    "    cnot_ladder(qc, BOB, DEBBIE_QUBITS[0], DEBBIE_SIZE, reverse=False, internal_copy=True)\n",
    "\n",
    "    # Apply the settings for Alice/Charlie and Bob/Debbie\n",
    "    apply_setting(qc, ALICE, alice_setting, angles[alice_setting], alice_creg)\n",
    "    apply_setting(qc, BOB, bob_setting, (beta - angles[bob_setting]), bob_creg)\n",
    "\n",
    "    return qc"
   ]
  },
  {
   "cell_type": "code",
   "execution_count": 235,
   "id": "34e49306",
   "metadata": {
    "scrolled": true
   },
   "outputs": [
    {
     "data": {
      "image/png": "[encoded data removed]",
      "text/plain": [
       "<Figure size 1954.74x785.944 with 1 Axes>"
      ]
     },
     "execution_count": 235,
     "metadata": {},
     "output_type": "execute_result"
    }
   ],
   "source": [
    "qc = ewfs(PEEK, REVERSE_2, ANGLES, BETA)\n",
    "qc.draw(\"mpl\")"
   ]
  },
  {
   "cell_type": "code",
   "execution_count": 236,
   "id": "559c823e",
   "metadata": {},
   "outputs": [],
   "source": [
    "job = qiskit.execute(\n",
    "    experiments=qc,\n",
    "    backend=BACKEND,\n",
    "    noise_model=NOISE_MODEL,\n",
    "    basis_gates=NOISE_MODEL.basis_gates if NOISE_MODEL is not None else None,\n",
    "    shots=1e4,\n",
    ")\n",
    "counts = job.result().get_counts()\n",
    "\n",
    "# Convert counts to probabilities.\n",
    "probabilities = {key[::-1]: value / 1e4 for key, value in counts.items()}"
   ]
  },
  {
   "cell_type": "code",
   "execution_count": 237,
   "id": "d3ecac00",
   "metadata": {},
   "outputs": [
    {
     "data": {
      "image/png": "[encoded data removed]",
      "text/plain": [
       "<Figure size 1200x500 with 1 Axes>"
      ]
     },
     "execution_count": 237,
     "metadata": {},
     "output_type": "execute_result"
    }
   ],
   "source": [
    "from qiskit.visualization import plot_distribution\n",
    "plot_distribution(probabilities, figsize=(12, 5))"
   ]
  },
  {
   "cell_type": "markdown",
   "id": "162be586",
   "metadata": {},
   "source": [
    "## Inequalities"
   ]
  },
  {
   "cell_type": "code",
   "execution_count": 199,
   "id": "d93f9cc4",
   "metadata": {},
   "outputs": [],
   "source": [
    "def compute_inequalities(results, verbose=False):\n",
    "    A1 = single_expect(ALICE, PEEK, results)\n",
    "    B1 = single_expect(BOB, PEEK, results)\n",
    "\n",
    "    A2 = single_expect(ALICE, REVERSE_1, results)\n",
    "    B2 = single_expect(BOB, REVERSE_1, results)\n",
    "\n",
    "    A3 = single_expect(ALICE, REVERSE_2, results)\n",
    "    B3 = single_expect(BOB, REVERSE_2, results)\n",
    "\n",
    "    A1B1 = double_expect((PEEK, PEEK), results)\n",
    "    A1B2 = double_expect((PEEK, REVERSE_1), results)\n",
    "    A1B3 = double_expect((PEEK, REVERSE_2), results)\n",
    "\n",
    "    A2B1 = double_expect((REVERSE_1, PEEK), results)\n",
    "    A2B2 = double_expect((REVERSE_1, REVERSE_1), results)\n",
    "    A2B3 = double_expect((REVERSE_1, REVERSE_2), results)\n",
    "\n",
    "    A3B1 = double_expect((REVERSE_2, PEEK), results)\n",
    "    A3B2 = double_expect((REVERSE_2, REVERSE_1), results)\n",
    "    A3B3 = double_expect((REVERSE_2, REVERSE_2), results)\n",
    "    \n",
    "    # Local-friendliness inequalities:\n",
    "    # Eq. (13) from [1].\n",
    "    lf_1 = -A1 - A2 - B1 - B2 - A1B1 - 2*A1B2 - 2*A2B1 + 2*A2B2 - A2B3 - A3B2 - A3B3 - 6\n",
    "    # Eq. (14) from [1].\n",
    "    lf_2 = -A1 - A2 - A3 - B1 - A1B1 - A2B1 - A3B1 - 2*A1B2 + A2B2 + A3B2 - A2B3 + A3B3 - 5\n",
    "    # Eq. (15) from [1].\n",
    "    lf_3 = -A1 + A2 + B1 - B2 + A1B1 - A1B2 - A1B3 - A2B1 + A2B2 - A2B3 - A3B1 - A3B2 - 4 \n",
    "    # Eq. (16) from [1].\n",
    "    lf_4 = -A2 - A3 - B2 - B3 - A1B2 + A1B3 - A2B1 - A2B2 - A2B3 + A3B1 - A3B2 - A3B3 - 4\n",
    "\n",
    "    # Brukner inequalities:\n",
    "    # Eq. (17) from [1].\n",
    "    brukner = A1B1 - A1B3 - A2B1 - A2B3 - 2\n",
    "    # Eq. (18) from [1].\n",
    "    semi_brukner = -A1B2 + A1B3 - A3B2 - A3B3 - 2\n",
    "\n",
    "    # Positivity inequalities:\n",
    "    # Eq. (19) from [1].\n",
    "    pos_1 = 1 + A1 + B1 + A1B1\n",
    "    # Eq. (20) from [1].\n",
    "    pos_2 = 1 + A1 + B2 + A1B2\n",
    "    # Eq. (21) from [1].\n",
    "    pos_3 = 1 + A2 + B2 + A2B2\n",
    "\n",
    "    # Bell non-LF \n",
    "    # Eq. (22) from [1].\n",
    "    bell_non_lf = A2B2 - A2B3 - A3B2 - A3B3 - 2\n",
    "    \n",
    "    if verbose:\n",
    "        print(\"******Inequalities******\")\n",
    "        print(f\"{semi_brukner=} -- is violated: {semi_brukner > 0}\")\n",
    "        print(f\"{brukner=} -- is violated: {brukner > 0}\")\n",
    "        print(f\"{lf_1=} -- is violated: {lf_1 > 0}\")\n",
    "        print(f\"{lf_2=} -- is violated: {lf_2 > 0}\")\n",
    "        print(f\"{lf_3=} -- is_violated: {lf_3 > 0}\")\n",
    "        print(f\"{lf_4=} -- is_violated: {lf_4 > 0}\")\n",
    "        print(f\"{bell_non_lf=} -- is_violated: {bell_non_lf > 0}\")\n",
    "        print(\"**************************\")\n",
    "        \n",
    "        print(\"******Expectation values******\")\n",
    "        print(f\"{A1=}\")\n",
    "        print(f\"{A2=}\")\n",
    "        print(f\"{A3=}\")\n",
    "        print(f\"{B1=}\")\n",
    "        print(f\"{B2=}\")\n",
    "        print(f\"{B3=}\")\n",
    "        print(f\"{A1B1=}\")\n",
    "        print(f\"{A1B2=}\")\n",
    "        print(f\"{A1B3=}\")\n",
    "        print(f\"{A2B1=}\")\n",
    "        print(f\"{A2B2=}\")\n",
    "        print(f\"{A2B3=}\")\n",
    "        print(f\"{A3B1=}\")\n",
    "        print(f\"{A3B2=}\")\n",
    "        print(f\"{A3B3=}\")\n",
    "        print(\"******************************\")"
   ]
  },
  {
   "cell_type": "code",
   "execution_count": 238,
   "id": "4e9f7a6b",
   "metadata": {},
   "outputs": [
    {
     "name": "stdout",
     "output_type": "stream",
     "text": [
      "******Inequalities******\n",
      "semi_brukner=0.3873000000000002 -- is violated: True\n",
      "brukner=0.12273999999999985 -- is violated: True\n",
      "lf_1=0.5998600000000005 -- is violated: True\n",
      "lf_2=-2.8196733333333337 -- is violated: False\n",
      "lf_3=0.2999800000000006 -- is_violated: True\n",
      "lf_4=-0.7079199999999997 -- is_violated: False\n",
      "bell_non_lf=0.5753000000000004 -- is_violated: True\n",
      "**************************\n",
      "******Expectation values******\n",
      "A1=0.0028600000000000097\n",
      "A2=-0.00015333333333332317\n",
      "A3=0.0005333333333333301\n",
      "B1=-0.0005666666666666397\n",
      "B2=-0.004700000000000002\n",
      "B3=0.002500000000000016\n",
      "A1B1=0.94548\n",
      "A1B2=-0.9924\n",
      "A1B3=0.36234\n",
      "A2B1=-0.9931800000000001\n",
      "A2B2=0.9963200000000001\n",
      "A2B3=-0.54642\n",
      "A3B1=0.35968\n",
      "A3B2=-0.54708\n",
      "A3B3=-0.48548\n",
      "******************************\n"
     ]
    }
   ],
   "source": [
    "results = generate_all_experiments(backend=BACKEND, noise_model=NOISE_MODEL, shots=SHOTS, angles=ANGLES, beta=BETA)\n",
    "compute_inequalities(results, verbose=True)"
   ]
  },
  {
   "cell_type": "code",
   "execution_count": null,
   "id": "7f9f5885",
   "metadata": {},
   "outputs": [],
   "source": []
  }
 ],
 "metadata": {
  "kernelspec": {
   "display_name": "Python 3 (ipykernel)",
   "language": "python",
   "name": "python3"
  },
  "language_info": {
   "codemirror_mode": {
    "name": "ipython",
    "version": 3
   },
   "file_extension": ".py",
   "mimetype": "text/x-python",
   "name": "python",
   "nbconvert_exporter": "python",
   "pygments_lexer": "ipython3",
   "version": "3.10.11"
  }
 },
 "nbformat": 4,
 "nbformat_minor": 5
}
