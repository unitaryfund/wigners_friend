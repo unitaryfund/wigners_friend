{
 "cells": [
  {
   "cell_type": "markdown",
   "id": "92db2b58",
   "metadata": {},
   "source": [
    "# Extended Wigner's friend scenario"
   ]
  },
  {
   "cell_type": "markdown",
   "id": "ab657876",
   "metadata": {},
   "source": [
    "An adapted notebook from Will pertaining to the extended Wigner's friend scenario.\n",
    "\n",
    "This notebook is intended to run a benchmark to show a local friendliness violation from an extended Wigner's Friend scenario running on a QPU. For our friends we will use a GHZ state of increasing size. First we run on a simulator, then a noisy simulator, then on a real QPU.\n",
    "\n",
    "Relevant References:\n",
    "- [1]: [\"A strong no-go theorem on the Wigner's friend paradox\"](https://arxiv.org/abs/1907.05607)\n",
    "\n",
    "- [2]: [\"A scalable tripartite Wigner's friend scenario\"](https://arxiv.org/abs/2109.02298)\n",
    "\n",
    "- [3]: [\"Thought experiments in a quantum computer\"](https://arxiv.org/abs/2209.06236)"
   ]
  },
  {
   "cell_type": "markdown",
   "id": "eabb03d4",
   "metadata": {},
   "source": [
    "## Imports"
   ]
  },
  {
   "cell_type": "code",
   "execution_count": 55,
   "id": "78cdb99c",
   "metadata": {},
   "outputs": [],
   "source": [
    "import numpy as np\n",
    "import itertools\n",
    "import random\n",
    "from enum import Enum\n",
    "\n",
    "import qiskit\n",
    "import qiskit.providers.aer.noise as noise\n",
    "from qiskit import QuantumCircuit, QuantumRegister, ClassicalRegister\n",
    "from qiskit.providers import Backend\n",
    "from qiskit_aer.noise import NoiseModel"
   ]
  },
  {
   "cell_type": "markdown",
   "id": "dac3c05a",
   "metadata": {},
   "source": [
    "## Constants"
   ]
  },
  {
   "cell_type": "code",
   "execution_count": 56,
   "id": "117ab5f8",
   "metadata": {},
   "outputs": [],
   "source": [
    "BACKEND = qiskit.Aer.get_backend(\"aer_simulator\")\n",
    "\n",
    "# Create an empty noise model\n",
    "NOISE_MODEL = None\n",
    "\n",
    "SHOTS = 100_000"
   ]
  },
  {
   "cell_type": "code",
   "execution_count": 57,
   "id": "00ba75d0",
   "metadata": {},
   "outputs": [],
   "source": [
    "# Settings for extended Wigner's friend scenario.\n",
    "class Setting(Enum):\n",
    "    PEEK = 1\n",
    "    REVERSE_1 = 2\n",
    "    REVERSE_2 = 3\n",
    "PEEK = Setting.PEEK.value\n",
    "REVERSE_1 = Setting.REVERSE_1.value\n",
    "REVERSE_2 = Setting.REVERSE_2.value\n",
    "SETTINGS = [PEEK, REVERSE_1, REVERSE_2]"
   ]
  },
  {
   "cell_type": "code",
   "execution_count": 58,
   "id": "a9f7caba",
   "metadata": {},
   "outputs": [],
   "source": [
    "# Observers for scenario are Alice and Bob.\n",
    "class Observer(Enum):\n",
    "    ALICE = 0\n",
    "    BOB = 1\n",
    "ALICE = Observer.ALICE.value\n",
    "BOB = Observer.BOB.value\n",
    "OBSERVERS = [ALICE, BOB]"
   ]
  },
  {
   "cell_type": "code",
   "execution_count": 59,
   "id": "d46d69df",
   "metadata": {},
   "outputs": [],
   "source": [
    "# Alice and Bob share a bipartite system of equal size.\n",
    "ALICE_SIZE = 1\n",
    "BOB_SIZE = 1\n",
    "\n",
    "# Size of the systems held by the \"friends\" (Charlie and Debbie).\n",
    "CHARLIE_SIZE = 3\n",
    "DEBBIE_SIZE = 3\n",
    "\n",
    "# Size of the bipartite quantum system.\n",
    "SYS_SIZE = ALICE_SIZE + BOB_SIZE\n",
    "\n",
    "# Two output bits for Alice and Bob.\n",
    "MEAS_SIZE = 2\n",
    "\n",
    "# Size of entire circuit\n",
    "CIRCUIT_SIZE = SYS_SIZE + CHARLIE_SIZE + DEBBIE_SIZE\n",
    "\n",
    "# Ranges for Charlie and Debbie's qubits depending on the size of their systems:\n",
    "CHARLIE_QUBITS = range(SYS_SIZE, (SYS_SIZE + CHARLIE_SIZE))\n",
    "DEBBIE_QUBITS = range(SYS_SIZE + CHARLIE_SIZE, SYS_SIZE + (CHARLIE_SIZE + DEBBIE_SIZE))\n",
    "\n",
    "# Angles and beta term used for Alice and Bob measurement operators from arXiv:1907.05607.\n",
    "# Note that despite the fact that degrees are used, we need to convert this to radians.\n",
    "ANGLES = {PEEK: np.deg2rad(168), REVERSE_1: np.deg2rad(0), REVERSE_2: np.deg2rad(118)}\n",
    "BETA = np.deg2rad(175)"
   ]
  },
  {
   "cell_type": "markdown",
   "id": "ba065ec4",
   "metadata": {},
   "source": [
    "## Expectation values"
   ]
  },
  {
   "cell_type": "code",
   "execution_count": 174,
   "id": "507639bd",
   "metadata": {},
   "outputs": [],
   "source": [
    "def single_expect(observer: Observer, setting: Setting, results: dict, charlie_size: int, debbie_size: int):\n",
    "    \"\"\"Compute single expectation values for either Alice or Bob.\"\"\"\n",
    "    if observer is ALICE:\n",
    "        ret = 0\n",
    "        for settings in results.keys():\n",
    "            if settings[ALICE] is setting:\n",
    "                if setting == PEEK:\n",
    "                    zero_la = '0' * charlie_size\n",
    "                    one_la = '1' * charlie_size\n",
    "                    zero_lb = '0' * debbie_size\n",
    "                    one_lb = '1' * debbie_size\n",
    "                    probs = results[settings]\n",
    "                    # <A> = P(00) + P(01) - P(10) - P(11)\n",
    "                    ret += (\n",
    "                        probs.get(zero_la + \"0\", 0)\n",
    "                        + probs.get(zero_la + \"1\", 0)\n",
    "                        - probs.get(one_la + \"0\", 0)\n",
    "                        - probs.get(one_la + \"1\", 0)\n",
    "                        + probs.get(zero_la + zero_lb, 0)\n",
    "                        + probs.get(zero_la + one_lb, 0)\n",
    "                        - probs.get(one_la + zero_lb, 0)\n",
    "                        - probs.get(one_la + one_lb, 0)\n",
    "                    )\n",
    "                else:\n",
    "                    zero_lb = '0' * debbie_size\n",
    "                    one_lb = '1' * debbie_size\n",
    "                    probs = results[settings]\n",
    "                    # <A> = P(00) + P(01) - P(10) - P(11)\n",
    "                    ret += (\n",
    "                        probs.get(\"00\", 0)\n",
    "                        + probs.get(\"01\", 0)\n",
    "                        - probs.get(\"10\", 0)\n",
    "                        - probs.get(\"11\", 0)\n",
    "                        + probs.get(\"0\" + zero_lb, 0)\n",
    "                        + probs.get(\"0\" + one_lb, 0)\n",
    "                        - probs.get(\"1\" + zero_lb, 0)\n",
    "                        - probs.get(\"1\" + one_lb, 0)\n",
    "                    )\n",
    "\n",
    "        return ret / len(SETTINGS)\n",
    "    else:\n",
    "        ret = 0\n",
    "        for settings in results.keys():\n",
    "            if settings[BOB] is setting:\n",
    "                if setting == PEEK:\n",
    "                    zero_la = '0' * charlie_size\n",
    "                    one_la = '1' * charlie_size\n",
    "                    zero_lb = '0' * debbie_size\n",
    "                    one_lb = '1' * debbie_size\n",
    "                    probs = results[settings]\n",
    "                    # <A> = P(00) - P(01) + P(10) - P(11)\n",
    "                    ret += (\n",
    "                        probs.get(\"0\" + zero_lb, 0)\n",
    "                        - probs.get(\"0\" + one_lb, 0)\n",
    "                        + probs.get(\"1\" + zero_lb , 0)\n",
    "                        - probs.get(\"1\" + one_lb, 0)\n",
    "                        + probs.get(zero_la + zero_lb, 0)\n",
    "                        - probs.get(zero_la + one_lb, 0)\n",
    "                        + probs.get(one_la + zero_lb, 0)\n",
    "                        - probs.get(one_la + one_lb, 0)\n",
    "                    )\n",
    "                else:\n",
    "                    zero_la = '0' * charlie_size\n",
    "                    one_la = '1' * charlie_size\n",
    "                    probs = results[settings]\n",
    "                    # <A> = P(00) - P(01) + P(10) - P(11)\n",
    "                    ret += (\n",
    "                        probs.get(\"00\", 0)\n",
    "                        - probs.get(\"01\", 0)\n",
    "                        + probs.get(\"10\", 0)\n",
    "                        - probs.get(\"11\", 0)\n",
    "                        + probs.get(zero_la + \"0\", 0)\n",
    "                        - probs.get(zero_la + \"1\", 0)\n",
    "                        + probs.get(one_la + \"0\", 0)\n",
    "                        - probs.get(one_la + \"1\", 0)\n",
    "                    )\n",
    "        return ret / len(SETTINGS)"
   ]
  },
  {
   "cell_type": "code",
   "execution_count": 175,
   "id": "b0b4f78e",
   "metadata": {},
   "outputs": [],
   "source": [
    "def double_expect(settings: list[Setting], results: dict, charlie_size: int, debbie_size: int) -> float:\n",
    "    \"\"\"Expectation value of product of two operators.\"\"\"\n",
    "    probs = results[settings]\n",
    "    if settings == (PEEK, REVERSE_1) or settings == (PEEK, REVERSE_2):\n",
    "        # <AB> = P(00, 0) - P(00, 1) - P(11, 0) + P(11, 1) for logical qubit of size 2 of ALICE\n",
    "        zero_l = '0' * charlie_size\n",
    "        one_l = '1' * charlie_size\n",
    "        return (\n",
    "            probs.get(zero_l + \"0\", 0) \n",
    "            - probs.get(zero_l + \"1\", 0) \n",
    "            - probs.get(one_l + \"0\", 0) \n",
    "            + probs.get(one_l + \"1\", 0)\n",
    "        )    \n",
    "    elif settings == (REVERSE_1, PEEK) or settings == (REVERSE_2, PEEK):\n",
    "        # <AB> = P(0,00) - P(0, 11) - P(1, 00) + P(1, 11) for logical qubit of size 2 of BOB\n",
    "        zero_l = '0' * debbie_size\n",
    "        one_l = '1' * debbie_size\n",
    "        return (\n",
    "            probs.get(\"0\" + zero_l, 0) \n",
    "            - probs.get(\"0\" + one_l, 0) \n",
    "            - probs.get(\"1\" + zero_l, 0) \n",
    "            + probs.get(\"1\" + one_l, 0)\n",
    "        ) \n",
    "    elif settings == (PEEK, PEEK):\n",
    "        # <AB> = P(00, 00) - P(00, 11) - P(11, 00) + P(11, 11) for logical qubit of size 2 of ALICE and BOB\n",
    "        zero_la = '0' * charlie_size\n",
    "        one_la = '1' * charlie_size\n",
    "        zero_lb = '0' * debbie_size\n",
    "        one_lb = '1' * debbie_size\n",
    "        return (\n",
    "            probs.get(zero_la + zero_lb, 0) \n",
    "            - probs.get(zero_la + one_lb, 0) \n",
    "            - probs.get(one_la + zero_lb, 0) \n",
    "            + probs.get(one_la + one_lb, 0)\n",
    "        ) \n",
    "    else:\n",
    "        # <AB> = P(0, 0) - P(0, 1) - P(1, 0) + P(1, 1)\n",
    "        return (\n",
    "            probs.get(\"00\", 0) \n",
    "            - probs.get(\"01\", 0) \n",
    "            - probs.get(\"10\", 0) \n",
    "            + probs.get(\"11\", 0)\n",
    "        ) \n"
   ]
  },
  {
   "cell_type": "markdown",
   "id": "e2644123",
   "metadata": {},
   "source": [
    "## Consider all experimental settings"
   ]
  },
  {
   "cell_type": "code",
   "execution_count": 62,
   "id": "50259fc9",
   "metadata": {},
   "outputs": [],
   "source": [
    "def generate_all_experiments(\n",
    "    backend: Backend,\n",
    "    noise_model: NoiseModel,\n",
    "    shots: float,\n",
    "    angles: list[float],\n",
    "    beta: float,\n",
    "    charlie_size: int,\n",
    "    debbie_size: int\n",
    ") -> dict[tuple[Observer, Observer], list[float]]:\n",
    "    \"\"\"Generate probabilitites for all combinations of experimental settings.\"\"\"\n",
    "    all_experiment_combos = list(itertools.product(SETTINGS, repeat=2))\n",
    "    \n",
    "    results = {}\n",
    "    for alice, bob in all_experiment_combos:\n",
    "        ewfs_circuit = ewfs(alice, bob, angles, beta, charlie_size, debbie_size)\n",
    "\n",
    "        job = qiskit.execute(\n",
    "            experiments=ewfs_circuit,\n",
    "            backend=backend,\n",
    "            noise_model=noise_model,\n",
    "            basis_gates=noise_model.basis_gates if noise_model is not None else None,\n",
    "            shots=shots,\n",
    "        )\n",
    "        counts = job.result().get_counts()\n",
    "        \n",
    "        # Convert counts to probabilities.\n",
    "        probabilities = {key[::-1]: value / shots for key, value in counts.items()} #farrokh: I think that for some reason qiskit reverses the order of the bitstring key, so I reverse it again key[::-1]\n",
    "\n",
    "        results[(alice, bob)] = probabilities\n",
    "    return results"
   ]
  },
  {
   "cell_type": "markdown",
   "id": "c90db58d",
   "metadata": {},
   "source": [
    "## State preparation"
   ]
  },
  {
   "cell_type": "code",
   "execution_count": 63,
   "id": "8d9e9065",
   "metadata": {},
   "outputs": [],
   "source": [
    "def prepare_bipartite_system(qc: QuantumCircuit):\n",
    "    \"\"\"Generates the state: 1/sqrt(2) * (|01> - |10>)\"\"\"\n",
    "    qc.x(ALICE)\n",
    "    qc.x(BOB)\n",
    "    qc.h(ALICE)\n",
    "    qc.cx(ALICE, BOB)"
   ]
  },
  {
   "cell_type": "markdown",
   "id": "4d0e77a6",
   "metadata": {},
   "source": [
    "Confirm that the state preparation circuit generates $|\\psi\\rangle = \\frac{1}{\\sqrt{2}}\\left(|01\\rangle - 10\\rangle\\right)$:"
   ]
  },
  {
   "cell_type": "code",
   "execution_count": 64,
   "id": "43978212",
   "metadata": {},
   "outputs": [
    {
     "name": "stdout",
     "output_type": "stream",
     "text": [
      "{'01': 0.5, '10': 0.5}\n"
     ]
    }
   ],
   "source": [
    "circuit = QuantumCircuit(2)\n",
    "prepare_bipartite_system(circuit)\n",
    "print(qiskit.Aer.get_backend(\"statevector_simulator\").run(circuit).result().get_counts())"
   ]
  },
  {
   "cell_type": "markdown",
   "id": "78e5d102",
   "metadata": {},
   "source": [
    "## CNOT ladder circuit"
   ]
  },
  {
   "cell_type": "code",
   "execution_count": 65,
   "id": "8c786b34",
   "metadata": {},
   "outputs": [],
   "source": [
    "def cnot_ladder(qc: QuantumCircuit, observer: Observer, friend_qubit: int, friend_size: int, reverse: bool, internal_copy: bool):\n",
    "    \"\"\"CNOT ladder circuit (GHZ without Hadamard).\"\"\"\n",
    "    if internal_copy:\n",
    "        if reverse:\n",
    "            for i in range(friend_size-1):\n",
    "                qc.cx(friend_qubit + friend_size-2-i, friend_qubit+friend_size-1-i)\n",
    "            qc.cx(observer, friend_qubit)\n",
    "        else:\n",
    "            qc.cx(observer, friend_qubit)\n",
    "            for i in range(friend_size-1):\n",
    "                qc.cx(friend_qubit+i, friend_qubit + i + 1)\n",
    "    else:\n",
    "        if reverse:\n",
    "            for i in range(friend_size):\n",
    "                qc.cx(observer, friend_qubit+friend_size-1-i)\n",
    "        else:\n",
    "            for i in range(friend_size):\n",
    "                qc.cx(observer, friend_qubit + i)"
   ]
  },
  {
   "cell_type": "code",
   "execution_count": 66,
   "id": "026bfd20",
   "metadata": {},
   "outputs": [
    {
     "data": {
      "image/png": "[encoded data removed]",
      "text/plain": [
       "<Figure size 371.107x785.944 with 1 Axes>"
      ]
     },
     "execution_count": 66,
     "metadata": {},
     "output_type": "execute_result"
    }
   ],
   "source": [
    "circuit = QuantumCircuit(CIRCUIT_SIZE, MEAS_SIZE)\n",
    "cnot_ladder(circuit, ALICE, CHARLIE_QUBITS[0], CHARLIE_SIZE, reverse=False, internal_copy=True)\n",
    "circuit.draw(\"mpl\")"
   ]
  },
  {
   "cell_type": "markdown",
   "id": "64692f24",
   "metadata": {},
   "source": [
    "## Circuit for extended Wigner's friend scenario"
   ]
  },
  {
   "cell_type": "code",
   "execution_count": 67,
   "id": "f5a4f1a1",
   "metadata": {},
   "outputs": [],
   "source": [
    "def ewfs_rotation(qc: QuantumCircuit, qubit: int, angle: float):\n",
    "    qc.rz(-angle, qubit)\n",
    "    qc.h(qubit)\n",
    "    \n",
    "def apply_setting(qc: QuantumCircuit, \n",
    "                  observer: Observer, \n",
    "                  setting: Setting, \n",
    "                  angle: float, \n",
    "                  observer_creg: list[int] | int, \n",
    "                  charlie_size: int, \n",
    "                  debbie_size: int):\n",
    "    \"\"\"Apply either the PEEK or REVERSE_1/REVERSE_2 settings.\"\"\"\n",
    "    \n",
    "    # Alice is the friend of Charlie and Bob is the friend of Debbie.\n",
    "    charlie_qubits = range(SYS_SIZE, (SYS_SIZE + charlie_size))\n",
    "    debbie_qubits = range(SYS_SIZE + charlie_size, SYS_SIZE + (charlie_size + debbie_size))\n",
    "    friend_qubits = charlie_qubits if observer is ALICE else debbie_qubits\n",
    "    friend_size = charlie_size if observer is ALICE else debbie_size\n",
    "    \n",
    "    if setting is PEEK:\n",
    "        # The rotation gates should be applied to all qubits belonging to the friend.\n",
    "        #for friend_qubit in friend_qubits:\n",
    "        #    ewfs_rotation(qc, friend_qubit, angle)\n",
    "\n",
    "        # Ask friend for the outcome. We pick a random qubit from friend's register.\n",
    "        random_offset = random.randint(0, friend_size - 1)\n",
    "        qc.measure(friend_qubits, observer_creg)\n",
    "        #qc.measure(friend_qubits[0], observer)\n",
    "\n",
    "    elif setting in [REVERSE_1, REVERSE_2]:\n",
    "        cnot_ladder(qc, observer, friend_qubits[0], friend_size, reverse=True, internal_copy=True)\n",
    "\n",
    "        # For either REVERSE_1 or REVERSE_2, apply the appropriate angle rotations.\n",
    "        # Note that in this case, the rotation should occur on the observer's qubit.\n",
    "        if observer is ALICE:\n",
    "            qc.h(0)\n",
    "            qc.rz(ANGLES[1], 0)        \n",
    "\n",
    "        if observer is BOB:\n",
    "            qc.h(1)        \n",
    "            qc.rz((BETA - ANGLES[1]), 1)\n",
    "        ewfs_rotation(qc, observer, angle)            \n",
    "        qc.measure(observer, observer_creg)\n",
    "        \n",
    "def ewfs(alice_setting: Setting, \n",
    "        bob_setting: Setting, \n",
    "        angles: list[float], \n",
    "        beta: float,\n",
    "        charlie_size: int,\n",
    "        debbie_size: int) -> QuantumCircuit:\n",
    "    \"\"\"Generate the circuit for extended Wigner's friend scenario.\"\"\"    \n",
    "    # Define quantum registers\n",
    "    alice, bob, charlie, debbie = [\n",
    "        QuantumRegister(size, name=name) \n",
    "        for size, name in zip([ALICE_SIZE, BOB_SIZE, charlie_size, debbie_size], \n",
    "                              [\"Alice\", \"Bob\", \"Charlie\", \"Debbie\"])\n",
    "    ]\n",
    "    if alice_setting == PEEK and bob_setting == PEEK:\n",
    "        measurement = ClassicalRegister(charlie_size + debbie_size, name=\"Measurement\")\n",
    "        alice_creg = list(range(charlie_size))\n",
    "        bob_creg = list(range(charlie_size, charlie_size + debbie_size))\n",
    "    elif (alice_setting == PEEK and bob_setting != PEEK):\n",
    "        measurement = ClassicalRegister(charlie_size + 1, name=\"Measurement\")\n",
    "        alice_creg = list(range(charlie_size))\n",
    "        bob_creg = charlie_size\n",
    "    elif (alice_setting != PEEK and bob_setting == PEEK):\n",
    "        measurement = ClassicalRegister(debbie_size + 1, name=\"Measurement\")\n",
    "        alice_creg = 0\n",
    "        bob_creg = list(range(1, charlie_size + 1))\n",
    "    else:\n",
    "        measurement = ClassicalRegister(MEAS_SIZE, name=\"Measurement\")\n",
    "        alice_creg = 0\n",
    "        bob_creg = 1\n",
    "        \n",
    "    \n",
    "    # Create the Quantum Circuit with the defined registers\n",
    "    qc = QuantumCircuit(alice, bob, charlie, debbie, measurement)\n",
    "\n",
    "    charlie_qubits = range(SYS_SIZE, (SYS_SIZE + charlie_size))\n",
    "    debbie_qubits = range(SYS_SIZE + charlie_size, SYS_SIZE + (charlie_size + debbie_size))\n",
    "    \n",
    "    # Prepare the bipartite quantum system\n",
    "    prepare_bipartite_system(qc)\n",
    "    qc.rz(-angles[1], 0)\n",
    "    qc.h(0)\n",
    "    \n",
    "    qc.rz(-(beta - angles[1]), 1)\n",
    "    qc.h(1)\n",
    "\n",
    "    # Apply the CNOT ladder for Alice-Charlie and Bob-Debbie\n",
    "    cnot_ladder(qc, ALICE, charlie_qubits[0], charlie_size, reverse=False, internal_copy=True)\n",
    "    cnot_ladder(qc, BOB, debbie_qubits[0], debbie_size, reverse=False, internal_copy=True)\n",
    "\n",
    "    # Apply the settings for Alice/Charlie and Bob/Debbie\n",
    "    apply_setting(qc, ALICE, alice_setting, angles[alice_setting], alice_creg, charlie_size, debbie_size)\n",
    "    apply_setting(qc, BOB, bob_setting, (beta - angles[bob_setting]), bob_creg, charlie_size, debbie_size)\n",
    "\n",
    "    return qc"
   ]
  },
  {
   "cell_type": "code",
   "execution_count": 68,
   "id": "34e49306",
   "metadata": {
    "scrolled": true
   },
   "outputs": [],
   "source": [
    "size = 1\n",
    "qc = ewfs(1, 1, ANGLES, BETA, size, size)\n",
    "#qc.draw(\"mpl\")"
   ]
  },
  {
   "cell_type": "code",
   "execution_count": 69,
   "id": "559c823e",
   "metadata": {},
   "outputs": [
    {
     "data": {
      "image/png": "[encoded data removed]",
      "text/plain": [
       "<Figure size 1200x500 with 1 Axes>"
      ]
     },
     "execution_count": 69,
     "metadata": {},
     "output_type": "execute_result"
    }
   ],
   "source": [
    "job = qiskit.execute(\n",
    "    experiments=qc,\n",
    "    backend=BACKEND,\n",
    "    noise_model=noise_bit_flip,\n",
    "    basis_gates=noise_bit_flip.basis_gates if noise_bit_flip is not None else None,\n",
    "    shots=1e4,\n",
    ")\n",
    "counts = job.result().get_counts()\n",
    "\n",
    "# Convert counts to probabilities.\n",
    "probabilities = {key[::-1]: value / 1e4 for key, value in counts.items()}\n",
    "\n",
    "from qiskit.visualization import plot_distribution\n",
    "plot_distribution(probabilities, figsize=(12, 5))"
   ]
  },
  {
   "cell_type": "code",
   "execution_count": 70,
   "id": "0e20ba8c",
   "metadata": {},
   "outputs": [
    {
     "data": {
      "text/plain": [
       "{'10': 0.0386, '01': 0.0379, '11': 0.463, '00': 0.4605}"
      ]
     },
     "execution_count": 70,
     "metadata": {},
     "output_type": "execute_result"
    }
   ],
   "source": [
    "probabilities"
   ]
  },
  {
   "cell_type": "code",
   "execution_count": 71,
   "id": "854b6f1d",
   "metadata": {},
   "outputs": [
    {
     "data": {
      "text/plain": [
       "{'10': 0.0392, '01': 0.0421, '00': 0.4594, '11': 0.4593}"
      ]
     },
     "execution_count": 71,
     "metadata": {},
     "output_type": "execute_result"
    }
   ],
   "source": [
    "setting_results"
   ]
  },
  {
   "cell_type": "code",
   "execution_count": 72,
   "id": "a97bd1c7",
   "metadata": {},
   "outputs": [
    {
     "data": {
      "image/png": "[encoded data removed]",
      "text/plain": [
       "<Figure size 1200x500 with 1 Axes>"
      ]
     },
     "execution_count": 72,
     "metadata": {},
     "output_type": "execute_result"
    }
   ],
   "source": [
    "setting_results = {}\n",
    "# Decode the keys for each measurement result of the setting.\n",
    "for k, v in probabilities.items():\n",
    "    alice_friend, bob_friend = k[:size], k[size:]\n",
    "\n",
    "    alice_zero_count, bob_zero_count = alice_friend.count(\"0\"), bob_friend.count(\"0\")\n",
    "\n",
    "    alice_decoding = \"0\" if alice_zero_count >= size // 2 + 1 else \"1\"\n",
    "    bob_decoding = \"0\" if bob_zero_count >= size // 2 + 1 else \"1\"\n",
    "\n",
    "    setting_results[alice_decoding + bob_decoding] = v\n",
    "\n",
    "plot_distribution(setting_results, figsize=(12, 5))"
   ]
  },
  {
   "cell_type": "markdown",
   "id": "162be586",
   "metadata": {},
   "source": [
    "## Inequalities"
   ]
  },
  {
   "cell_type": "code",
   "execution_count": 73,
   "id": "d93f9cc4",
   "metadata": {},
   "outputs": [],
   "source": [
    "def compute_inequalities(results, charlie_size, debbie_size, verbose=False):\n",
    "    A1 = single_expect(ALICE, PEEK, results, charlie_size=charlie_size, debbie_size=debbie_size)\n",
    "    B1 = single_expect(BOB, PEEK, results, charlie_size=charlie_size, debbie_size=debbie_size)\n",
    "\n",
    "    A2 = single_expect(ALICE, REVERSE_1, results, charlie_size=charlie_size, debbie_size=debbie_size)\n",
    "    B2 = single_expect(BOB, REVERSE_1, results, charlie_size=charlie_size, debbie_size=debbie_size)\n",
    "\n",
    "    A3 = single_expect(ALICE, REVERSE_2, results, charlie_size=charlie_size, debbie_size=debbie_size)\n",
    "    B3 = single_expect(BOB, REVERSE_2, results, charlie_size=charlie_size, debbie_size=debbie_size)\n",
    "\n",
    "    A1B1 = double_expect((PEEK, PEEK), results, charlie_size=charlie_size, debbie_size=debbie_size)\n",
    "    A1B2 = double_expect((PEEK, REVERSE_1), results, charlie_size=charlie_size, debbie_size=debbie_size)\n",
    "    A1B3 = double_expect((PEEK, REVERSE_2), results, charlie_size=charlie_size, debbie_size=debbie_size)\n",
    "\n",
    "    A2B1 = double_expect((REVERSE_1, PEEK), results, charlie_size=charlie_size, debbie_size=debbie_size)\n",
    "    A2B2 = double_expect((REVERSE_1, REVERSE_1), results, charlie_size=charlie_size, debbie_size=debbie_size)\n",
    "    A2B3 = double_expect((REVERSE_1, REVERSE_2), results, charlie_size=charlie_size, debbie_size=debbie_size)\n",
    "\n",
    "    A3B1 = double_expect((REVERSE_2, PEEK), results, charlie_size=charlie_size, debbie_size=debbie_size)\n",
    "    A3B2 = double_expect((REVERSE_2, REVERSE_1), results, charlie_size=charlie_size, debbie_size=debbie_size)\n",
    "    A3B3 = double_expect((REVERSE_2, REVERSE_2), results, charlie_size=charlie_size, debbie_size=debbie_size)\n",
    "    \n",
    "    # Local-friendliness inequalities:\n",
    "    # Eq. (13) from [1].\n",
    "    lf_1 = -A1 - A2 - B1 - B2 - A1B1 - 2*A1B2 - 2*A2B1 + 2*A2B2 - A2B3 - A3B2 - A3B3 - 6\n",
    "    # Eq. (14) from [1].\n",
    "    lf_2 = -A1 - A2 - A3 - B1 - A1B1 - A2B1 - A3B1 - 2*A1B2 + A2B2 + A3B2 - A2B3 + A3B3 - 5\n",
    "    # Eq. (15) from [1].\n",
    "    lf_3 = -A1 + A2 + B1 - B2 + A1B1 - A1B2 - A1B3 - A2B1 + A2B2 - A2B3 - A3B1 - A3B2 - 4 \n",
    "    # Eq. (16) from [1].\n",
    "    lf_4 = -A2 - A3 - B2 - B3 - A1B2 + A1B3 - A2B1 - A2B2 - A2B3 + A3B1 - A3B2 - A3B3 - 4\n",
    "\n",
    "    # Brukner inequalities:\n",
    "    # Eq. (17) from [1].\n",
    "    brukner = A1B1 - A1B3 - A2B1 - A2B3 - 2\n",
    "    # Eq. (18) from [1].\n",
    "    semi_brukner = -A1B2 + A1B3 - A3B2 - A3B3 - 2\n",
    "\n",
    "    # Positivity inequalities:\n",
    "    # Eq. (19) from [1].\n",
    "    pos_1 = 1 + A1 + B1 + A1B1\n",
    "    # Eq. (20) from [1].\n",
    "    pos_2 = 1 + A1 + B2 + A1B2\n",
    "    # Eq. (21) from [1].\n",
    "    pos_3 = 1 + A2 + B2 + A2B2\n",
    "\n",
    "    # Bell non-LF \n",
    "    # Eq. (22) from [1].\n",
    "    bell_non_lf = A2B2 - A2B3 - A3B2 - A3B3 - 2\n",
    "    \n",
    "    if verbose:\n",
    "        print(\"******Inequalities******\")\n",
    "        print(f\"{semi_brukner=} -- is violated: {semi_brukner > 0}\")\n",
    "        print(f\"{brukner=} -- is violated: {brukner > 0}\")\n",
    "        print(f\"{lf_1=} -- is violated: {lf_1 > 0}\")\n",
    "        print(f\"{lf_2=} -- is violated: {lf_2 > 0}\")\n",
    "        print(f\"{lf_3=} -- is_violated: {lf_3 > 0}\")\n",
    "        print(f\"{lf_4=} -- is_violated: {lf_4 > 0}\")\n",
    "        print(f\"{bell_non_lf=} -- is_violated: {bell_non_lf > 0}\")\n",
    "        print(\"**************************\")\n",
    "        \n",
    "        print(\"******Expectation values******\")\n",
    "        print(f\"{A1=}\")\n",
    "        print(f\"{A2=}\")\n",
    "        print(f\"{A3=}\")\n",
    "        print(f\"{B1=}\")\n",
    "        print(f\"{B2=}\")\n",
    "        print(f\"{B3=}\")\n",
    "        print(f\"{A1B1=}\")\n",
    "        print(f\"{A1B2=}\")\n",
    "        print(f\"{A1B3=}\")\n",
    "        print(f\"{A2B1=}\")\n",
    "        print(f\"{A2B2=}\")\n",
    "        print(f\"{A2B3=}\")\n",
    "        print(f\"{A3B1=}\")\n",
    "        print(f\"{A3B2=}\")\n",
    "        print(f\"{A3B3=}\")\n",
    "        print(\"******************************\")\n",
    "    return semi_brukner"
   ]
  },
  {
   "cell_type": "code",
   "execution_count": 184,
   "id": "7e2e53fe",
   "metadata": {},
   "outputs": [],
   "source": [
    "noise_bit_flip = bitflip_model(0.01)"
   ]
  },
  {
   "cell_type": "code",
   "execution_count": 177,
   "id": "4e9f7a6b",
   "metadata": {},
   "outputs": [],
   "source": [
    "semi_brukner_results=[]\n",
    "for size in range(1,6):\n",
    "    results = generate_all_experiments(backend=BACKEND, noise_model=noise_bit_flip, shots=SHOTS, angles=ANGLES, beta=BETA, charlie_size=size, debbie_size=size)\n",
    "    semi_brukner = compute_inequalities(results, charlie_size=size, debbie_size=size, verbose=False)\n",
    "    semi_brukner_results.append(semi_brukner)"
   ]
  },
  {
   "cell_type": "code",
   "execution_count": 178,
   "id": "b6b2bd2e",
   "metadata": {},
   "outputs": [
    {
     "data": {
      "text/plain": [
       "[<matplotlib.lines.Line2D at 0x16277af20>]"
      ]
     },
     "execution_count": 178,
     "metadata": {},
     "output_type": "execute_result"
    },
    {
     "data": {
      "image/png": "[encoded data removed]",
      "text/plain": [
       "<Figure size 640x480 with 1 Axes>"
      ]
     },
     "metadata": {},
     "output_type": "display_data"
    }
   ],
   "source": [
    "#this is without decoding\n",
    "import matplotlib.pyplot as plt\n",
    "plt.plot(semi_brukner_results)"
   ]
  },
  {
   "cell_type": "code",
   "execution_count": 185,
   "id": "46eb4552",
   "metadata": {},
   "outputs": [],
   "source": [
    "semi_brukner_decoded_results=[]\n",
    "for size in range(1,6):\n",
    "    results = generate_all_experiments(backend=BACKEND, noise_model=noise_bit_flip, shots=SHOTS, angles=ANGLES, beta=BETA, charlie_size=size, debbie_size=size)\n",
    "    semi_brukner_decoded = compute_inequalities(decode_results(results, charlie_size=size, debbie_size=size), charlie_size=1, debbie_size=1, verbose=False)\n",
    "    semi_brukner_decoded_results.append(semi_brukner_decoded)"
   ]
  },
  {
   "cell_type": "code",
   "execution_count": 186,
   "id": "abeacd69",
   "metadata": {},
   "outputs": [
    {
     "data": {
      "text/plain": [
       "[<matplotlib.lines.Line2D at 0x16296d810>]"
      ]
     },
     "execution_count": 186,
     "metadata": {},
     "output_type": "execute_result"
    },
    {
     "data": {
      "image/png": "[encoded data removed]",
      "text/plain": [
       "<Figure size 640x480 with 1 Axes>"
      ]
     },
     "metadata": {},
     "output_type": "display_data"
    }
   ],
   "source": [
    "#this is with decoding\n",
    "import matplotlib.pyplot as plt\n",
    "plt.plot(semi_brukner_decoded_results)"
   ]
  },
  {
   "cell_type": "code",
   "execution_count": 183,
   "id": "efb36255",
   "metadata": {},
   "outputs": [
    {
     "name": "stdout",
     "output_type": "stream",
     "text": [
      "******Inequalities******\n",
      "semi_brukner=0.10874000000000006 -- is violated: True\n",
      "brukner=-0.13149999999999995 -- is violated: False\n",
      "lf_1=0.025299999999999656 -- is violated: True\n",
      "lf_2=-2.8952533333333332 -- is violated: False\n",
      "lf_3=-0.15549999999999953 -- is_violated: False\n",
      "lf_4=-1.1097333333333332 -- is_violated: False\n",
      "bell_non_lf=0.3290000000000002 -- is_violated: True\n",
      "**************************\n",
      "******Expectation values******\n",
      "A1=-0.03815333333333333\n",
      "A2=0.0008199999999999897\n",
      "A3=-0.001453333333333362\n",
      "B1=-0.03734000000000004\n",
      "B2=0.0008333333333333202\n",
      "B3=0.001233333333333313\n",
      "A1B1=0.8115600000000001\n",
      "A1B2=-0.8787400000000001\n",
      "A1B3=0.3272600000000001\n",
      "A2B1=-0.8781599999999999\n",
      "A2B2=0.92022\n",
      "A2B3=-0.50604\n",
      "A3B1=0.31898000000000004\n",
      "A3B2=-0.49522000000000005\n",
      "A3B3=-0.40751999999999994\n",
      "******************************\n"
     ]
    },
    {
     "data": {
      "text/plain": [
       "0.10874000000000006"
      ]
     },
     "execution_count": 183,
     "metadata": {},
     "output_type": "execute_result"
    }
   ],
   "source": [
    "noise_bit_flip = bitflip_model(0.01)\n",
    "size=2\n",
    "results = generate_all_experiments(backend=BACKEND, noise_model=noise_bit_flip, shots=SHOTS, angles=ANGLES, beta=BETA, charlie_size=size, debbie_size=size)\n",
    "compute_inequalities(decode_results(results, charlie_size=size, debbie_size=size), charlie_size=1, debbie_size=1, verbose=True)"
   ]
  },
  {
   "cell_type": "code",
   "execution_count": 154,
   "id": "7f9f5885",
   "metadata": {},
   "outputs": [],
   "source": [
    "import numpy as np\n",
    "from qiskit import QuantumCircuit, transpile\n",
    "from qiskit.quantum_info import Kraus, SuperOp\n",
    "from qiskit.providers.aer import AerSimulator\n",
    "from qiskit.tools.visualization import plot_histogram\n",
    "\n",
    "# Import from Qiskit Aer noise module\n",
    "from qiskit.providers.aer.noise import NoiseModel\n",
    "from qiskit.providers.aer.noise import QuantumError, ReadoutError\n",
    "from qiskit.providers.aer.noise import pauli_error\n",
    "from qiskit.providers.aer.noise import depolarizing_error\n",
    "from qiskit.providers.aer.noise import thermal_relaxation_error\n",
    "\n",
    "\n",
    "def bitflip_model(p):\n",
    "    # Example error probabilities\n",
    "    p_meas = p\n",
    "    p_gate1 = p\n",
    "\n",
    "    # QuantumError objects\n",
    "    error_meas = pauli_error([('X',p_meas), ('I', 1 - p_meas)])\n",
    "    error_gate1 = pauli_error([('X',p_gate1), ('I', 1 - p_gate1)])\n",
    "    error_gate2 = error_gate1.tensor(error_gate1)\n",
    "\n",
    "    # Add errors to noise model\n",
    "    noise_bit_flip = NoiseModel()\n",
    "    noise_bit_flip.add_all_qubit_quantum_error(error_meas, \"measure\")\n",
    "    noise_bit_flip.add_all_qubit_quantum_error(error_gate1, [\"u1\", \"u2\", \"u3\"])\n",
    "    noise_bit_flip.add_all_qubit_quantum_error(error_gate2, [\"cx\"])\n",
    "\n",
    "    return noise_bit_flip"
   ]
  },
  {
   "cell_type": "code",
   "execution_count": 155,
   "id": "1193667c",
   "metadata": {},
   "outputs": [
    {
     "data": {
      "text/plain": [
       "{(1, 1): {'0011': 0.0132, '1100': 0.01333, '0000': 0.48673, '1111': 0.48674},\n",
       " (1, 2): {'111': 0.00177, '001': 0.4975, '000': 0.002, '110': 0.49873},\n",
       " (1, 3): {'001': 0.15966, '111': 0.34376, '000': 0.33598, '110': 0.1606},\n",
       " (2, 1): {'111': 0.00167, '000': 0.00179, '011': 0.50142, '100': 0.49512},\n",
       " (2, 2): {'10': 0.001, '01': 0.00096, '11': 0.49868, '00': 0.49936},\n",
       " (2, 3): {'11': 0.11395, '01': 0.38728, '00': 0.11286, '10': 0.38591},\n",
       " (3, 1): {'100': 0.1614, '000': 0.33737, '011': 0.15976, '111': 0.34147},\n",
       " (3, 2): {'10': 0.38793, '01': 0.38545, '11': 0.11272, '00': 0.1139},\n",
       " (3, 3): {'11': 0.12766, '01': 0.37311, '00': 0.13068, '10': 0.36855}}"
      ]
     },
     "execution_count": 155,
     "metadata": {},
     "output_type": "execute_result"
    }
   ],
   "source": [
    "results"
   ]
  },
  {
   "cell_type": "code",
   "execution_count": 156,
   "id": "f3393209",
   "metadata": {},
   "outputs": [
    {
     "name": "stdout",
     "output_type": "stream",
     "text": [
      "00 11\n",
      "0 1\n",
      "11 00\n",
      "1 0\n",
      "00 00\n",
      "0 0\n",
      "11 11\n",
      "1 1\n",
      "11 1\n",
      "1 1\n",
      "00 1\n",
      "0 1\n",
      "00 0\n",
      "0 0\n",
      "11 0\n",
      "1 0\n",
      "00 1\n",
      "0 1\n",
      "11 1\n",
      "1 1\n",
      "00 0\n",
      "0 0\n",
      "11 0\n",
      "1 0\n",
      "1 11\n",
      "1 1\n",
      "0 00\n",
      "0 0\n",
      "0 11\n",
      "0 1\n",
      "1 00\n",
      "1 0\n",
      "1 00\n",
      "1 0\n",
      "0 00\n",
      "0 0\n",
      "0 11\n",
      "0 1\n",
      "1 11\n",
      "1 1\n"
     ]
    },
    {
     "data": {
      "text/plain": [
       "{(1, 1): {'01': 0.0132, '10': 0.01333, '00': 0.48673, '11': 0.48674},\n",
       " (1, 2): {'11': 0.00177, '01': 0.4975, '00': 0.002, '10': 0.49873},\n",
       " (1, 3): {'01': 0.15966, '11': 0.34376, '00': 0.33598, '10': 0.1606},\n",
       " (2, 1): {'11': 0.00167, '00': 0.00179, '01': 0.50142, '10': 0.49512},\n",
       " (2, 2): {'10': 0.001, '01': 0.00096, '11': 0.49868, '00': 0.49936},\n",
       " (2, 3): {'11': 0.11395, '01': 0.38728, '00': 0.11286, '10': 0.38591},\n",
       " (3, 1): {'10': 0.1614, '00': 0.33737, '01': 0.15976, '11': 0.34147},\n",
       " (3, 2): {'10': 0.38793, '01': 0.38545, '11': 0.11272, '00': 0.1139},\n",
       " (3, 3): {'11': 0.12766, '01': 0.37311, '00': 0.13068, '10': 0.36855}}"
      ]
     },
     "execution_count": 156,
     "metadata": {},
     "output_type": "execute_result"
    }
   ],
   "source": [
    "decode_results(results, charlie_size=size, debbie_size=size)"
   ]
  },
  {
   "cell_type": "code",
   "execution_count": 157,
   "id": "e4f8e7e5",
   "metadata": {},
   "outputs": [
    {
     "name": "stdout",
     "output_type": "stream",
     "text": [
      "11 1\n",
      "1 1\n",
      "00 1\n",
      "0 1\n",
      "00 0\n",
      "0 0\n",
      "11 0\n",
      "1 0\n"
     ]
    },
    {
     "data": {
      "text/plain": [
       "{(1, 2): {'11': 0.0018, '01': 0.4975, '00': 0.00164, '10': 0.49906}}"
      ]
     },
     "execution_count": 157,
     "metadata": {},
     "output_type": "execute_result"
    }
   ],
   "source": [
    "res = {(1, 2): {'111': 0.0018, '001': 0.4975, '000': 0.00164, '110': 0.49906}}\n",
    "decode_results(res, charlie_size=size, debbie_size=size)"
   ]
  },
  {
   "cell_type": "code",
   "execution_count": 179,
   "id": "4d086ead",
   "metadata": {},
   "outputs": [],
   "source": [
    "def decode_results(results: dict[str, float], charlie_size: int, debbie_size: int) -> dict[str, float]:\n",
    "    \"\"\"Take majority vote of measurement bit-strings.\"\"\"\n",
    "    decoded_results = {}\n",
    "    # For each setting, there is a dictionary of measurement results.\n",
    "    for setting in results:\n",
    "        if setting == (PEEK, PEEK) or setting == (PEEK, REVERSE_1) or setting == (PEEK, REVERSE_2):\n",
    "            setting_results = {}\n",
    "            # Decode the keys for each measurement result of the setting.\n",
    "            for k, v in results[setting].items():\n",
    "                alice_friend, bob_friend = k[:charlie_size], k[debbie_size:]\n",
    "\n",
    "                alice_zero_count, bob_zero_count = alice_friend.count(\"0\"), bob_friend.count(\"0\")\n",
    "                if setting[1] == PEEK:\n",
    "                    alice_decoding = \"0\" if alice_zero_count >= charlie_size // 2 + 1 else \"1\"\n",
    "                    bob_decoding = \"0\" if bob_zero_count >= debbie_size // 2 + 1 else \"1\"\n",
    "                else:\n",
    "                    alice_decoding = \"0\" if alice_zero_count >= charlie_size // 2 + 1 else \"1\"\n",
    "                    bob_decoding = \"0\" if bob_zero_count >= 1 else \"1\"\n",
    "\n",
    "\n",
    "                if alice_decoding + bob_decoding in setting_results.keys():\n",
    "                    setting_results[alice_decoding + bob_decoding] += v\n",
    "                else:\n",
    "                    setting_results[alice_decoding + bob_decoding] = v\n",
    "            decoded_results[setting] = setting_results\n",
    "\n",
    "\n",
    "        elif setting == (REVERSE_1, PEEK) or setting == (REVERSE_2, PEEK):\n",
    "            setting_results = {}\n",
    "            # Decode the keys for each measurement result of the setting.\n",
    "            for k, v in results[setting].items():\n",
    "                alice_friend, bob_friend = k[:1], k[1:]\n",
    "\n",
    "                alice_zero_count, bob_zero_count = alice_friend.count(\"0\"), bob_friend.count(\"0\")\n",
    "\n",
    "                alice_decoding = \"0\" if alice_zero_count >= 1 else \"1\"\n",
    "                bob_decoding = \"0\" if bob_zero_count >= debbie_size // 2 + 1 else \"1\"\n",
    "\n",
    " \n",
    "                if alice_decoding + bob_decoding in setting_results.keys():\n",
    "                    setting_results[alice_decoding + bob_decoding] += v\n",
    "                else:\n",
    "                    setting_results[alice_decoding + bob_decoding] = v\n",
    "            decoded_results[setting] = setting_results\n",
    "\n",
    "        else:\n",
    "            decoded_results[setting] = results[setting]\n",
    "            \n",
    "    return decoded_results\n",
    "\n",
    "def single_expect(observer: Observer, setting: Setting, results: dict, charlie_size=1, debbie_size=1) -> dict[str, float]:\n",
    "    \"\"\"Compute single expectation values for either Alice or Bob.\"\"\"\n",
    "    if observer is ALICE:\n",
    "        ret = 0\n",
    "        for settings in results.keys():\n",
    "            if settings[ALICE] is setting:\n",
    "                probs = results[settings]\n",
    "                # <A> = P(00) + P(01) - P(10) - P(11)\n",
    "                ret += (\n",
    "                    probs.get(\"00\", 0)\n",
    "                    + probs.get(\"01\", 0)\n",
    "                    - probs.get(\"10\", 0)\n",
    "                    - probs.get(\"11\", 0)\n",
    "                )\n",
    "        return ret / len(SETTINGS)\n",
    "    else:\n",
    "        ret = 0\n",
    "        for settings in results.keys():\n",
    "            if settings[BOB] is setting:\n",
    "                probs = results[settings]\n",
    "                # <B> = P(00) - P(01) + P(10) - P(11)\n",
    "                ret += (\n",
    "                    probs.get(\"00\", 0)\n",
    "                    - probs.get(\"01\", 0)\n",
    "                    + probs.get(\"10\", 0)\n",
    "                    - probs.get(\"11\", 0)\n",
    "                )\n",
    "        return ret / len(SETTINGS)\n",
    "\n",
    "\n",
    "def double_expect(settings: list[Setting], results: dict, charlie_size=1, debbie_size=1) -> float:\n",
    "    \"\"\"Expectation value of product of two operators.\"\"\"\n",
    "    probs = results[settings]\n",
    "    # <AB> = P(00) - P(01) - P(10) + P(11)\n",
    "    return (\n",
    "        probs.get(\"00\", 0) \n",
    "        - probs.get(\"01\", 0) \n",
    "        - probs.get(\"10\", 0) \n",
    "        + probs.get(\"11\", 0)\n",
    "    )    \n",
    "\n",
    "\n"
   ]
  },
  {
   "cell_type": "code",
   "execution_count": null,
   "id": "74b344f2",
   "metadata": {},
   "outputs": [],
   "source": []
  }
 ],
 "metadata": {
  "kernelspec": {
   "display_name": ".venv",
   "language": "python",
   "name": "python3"
  },
  "language_info": {
   "codemirror_mode": {
    "name": "ipython",
    "version": 3
   },
   "file_extension": ".py",
   "mimetype": "text/x-python",
   "name": "python",
   "nbconvert_exporter": "python",
   "pygments_lexer": "ipython3",
   "version": "3.10.9"
  }
 },
 "nbformat": 4,
 "nbformat_minor": 5
}
